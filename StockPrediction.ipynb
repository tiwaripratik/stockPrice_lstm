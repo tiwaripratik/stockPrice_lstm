{
 "cells": [
  {
   "cell_type": "code",
   "execution_count": 2,
   "id": "204347e6",
   "metadata": {},
   "outputs": [
    {
     "name": "stdout",
     "output_type": "stream",
     "text": [
      "Collecting pandas-datareader\n",
      "  Downloading pandas_datareader-0.10.0-py3-none-any.whl (109 kB)\n",
      "     ------------------------------------ 109.5/109.5 kB 147.9 kB/s eta 0:00:00\n",
      "Requirement already satisfied: requests>=2.19.0 in c:\\users\\owner\\anaconda3\\lib\\site-packages (from pandas-datareader) (2.25.1)\n",
      "Requirement already satisfied: pandas>=0.23 in c:\\users\\owner\\anaconda3\\lib\\site-packages (from pandas-datareader) (1.2.4)\n",
      "Requirement already satisfied: lxml in c:\\users\\owner\\anaconda3\\lib\\site-packages (from pandas-datareader) (4.6.3)\n",
      "Requirement already satisfied: python-dateutil>=2.7.3 in c:\\users\\owner\\anaconda3\\lib\\site-packages (from pandas>=0.23->pandas-datareader) (2.8.1)\n",
      "Requirement already satisfied: numpy>=1.16.5 in c:\\users\\owner\\anaconda3\\lib\\site-packages (from pandas>=0.23->pandas-datareader) (1.20.1)\n",
      "Requirement already satisfied: pytz>=2017.3 in c:\\users\\owner\\anaconda3\\lib\\site-packages (from pandas>=0.23->pandas-datareader) (2021.1)\n",
      "Requirement already satisfied: certifi>=2017.4.17 in c:\\users\\owner\\anaconda3\\lib\\site-packages (from requests>=2.19.0->pandas-datareader) (2022.6.15)\n",
      "Requirement already satisfied: idna<3,>=2.5 in c:\\users\\owner\\anaconda3\\lib\\site-packages (from requests>=2.19.0->pandas-datareader) (2.10)\n",
      "Requirement already satisfied: urllib3<1.27,>=1.21.1 in c:\\users\\owner\\anaconda3\\lib\\site-packages (from requests>=2.19.0->pandas-datareader) (1.26.4)\n",
      "Requirement already satisfied: chardet<5,>=3.0.2 in c:\\users\\owner\\anaconda3\\lib\\site-packages (from requests>=2.19.0->pandas-datareader) (4.0.0)\n",
      "Requirement already satisfied: six>=1.5 in c:\\users\\owner\\anaconda3\\lib\\site-packages (from python-dateutil>=2.7.3->pandas>=0.23->pandas-datareader) (1.15.0)\n",
      "Installing collected packages: pandas-datareader\n",
      "Successfully installed pandas-datareader-0.10.0\n",
      "Note: you may need to restart the kernel to use updated packages.\n"
     ]
    },
    {
     "name": "stderr",
     "output_type": "stream",
     "text": [
      "\n",
      "[notice] A new release of pip is available: 23.0 -> 23.0.1\n",
      "[notice] To update, run: python.exe -m pip install --upgrade pip\n"
     ]
    }
   ],
   "source": [
    "pip install pandas-datareader"
   ]
  },
  {
   "cell_type": "code",
   "execution_count": 5,
   "id": "6d4d3d64",
   "metadata": {},
   "outputs": [
    {
     "name": "stdout",
     "output_type": "stream",
     "text": [
      "Requirement already satisfied: pip in c:\\users\\owner\\anaconda3\\lib\\site-packages (23.0)\n",
      "Collecting pip\n",
      "  Downloading pip-23.0.1-py3-none-any.whl (2.1 MB)\n",
      "     ---------------------------------------- 2.1/2.1 MB 130.0 kB/s eta 0:00:00\n",
      "Installing collected packages: pip\n",
      "  Attempting uninstall: pip\n",
      "    Found existing installation: pip 23.0\n",
      "    Uninstalling pip-23.0:\n",
      "      Successfully uninstalled pip-23.0\n",
      "Successfully installed pip-23.0.1\n",
      "Note: you may need to restart the kernel to use updated packages.\n"
     ]
    }
   ],
   "source": [
    "pip install --upgrade pip\n"
   ]
  },
  {
   "cell_type": "code",
   "execution_count": 6,
   "id": "eff294e1",
   "metadata": {},
   "outputs": [],
   "source": [
    "import pandas_datareader as pdr"
   ]
  },
  {
   "cell_type": "code",
   "execution_count": 8,
   "id": "a30e206f",
   "metadata": {},
   "outputs": [],
   "source": [
    "df=pdr.get_data_tiingo('AAPL',api_key='39663cd1343e5a5ad87bedf2da12a4c9bec435ce')"
   ]
  },
  {
   "cell_type": "code",
   "execution_count": 9,
   "id": "5ab887dc",
   "metadata": {},
   "outputs": [],
   "source": [
    "df.to_csv('AAPL.csv')"
   ]
  },
  {
   "cell_type": "code",
   "execution_count": 10,
   "id": "d2b7e3af",
   "metadata": {},
   "outputs": [],
   "source": [
    "import pandas as pd"
   ]
  },
  {
   "cell_type": "code",
   "execution_count": 11,
   "id": "5dfddf4f",
   "metadata": {},
   "outputs": [],
   "source": [
    "df=pd.read_csv('AAPL.csv')"
   ]
  },
  {
   "cell_type": "code",
   "execution_count": 14,
   "id": "8448c276",
   "metadata": {},
   "outputs": [
    {
     "data": {
      "text/html": [
       "<div>\n",
       "<style scoped>\n",
       "    .dataframe tbody tr th:only-of-type {\n",
       "        vertical-align: middle;\n",
       "    }\n",
       "\n",
       "    .dataframe tbody tr th {\n",
       "        vertical-align: top;\n",
       "    }\n",
       "\n",
       "    .dataframe thead th {\n",
       "        text-align: right;\n",
       "    }\n",
       "</style>\n",
       "<table border=\"1\" class=\"dataframe\">\n",
       "  <thead>\n",
       "    <tr style=\"text-align: right;\">\n",
       "      <th></th>\n",
       "      <th>symbol</th>\n",
       "      <th>date</th>\n",
       "      <th>close</th>\n",
       "      <th>high</th>\n",
       "      <th>low</th>\n",
       "      <th>open</th>\n",
       "      <th>volume</th>\n",
       "      <th>adjClose</th>\n",
       "      <th>adjHigh</th>\n",
       "      <th>adjLow</th>\n",
       "      <th>adjOpen</th>\n",
       "      <th>adjVolume</th>\n",
       "      <th>divCash</th>\n",
       "      <th>splitFactor</th>\n",
       "    </tr>\n",
       "  </thead>\n",
       "  <tbody>\n",
       "    <tr>\n",
       "      <th>0</th>\n",
       "      <td>AAPL</td>\n",
       "      <td>2018-03-02 00:00:00+00:00</td>\n",
       "      <td>176.21</td>\n",
       "      <td>176.30</td>\n",
       "      <td>172.45</td>\n",
       "      <td>172.80</td>\n",
       "      <td>38453950</td>\n",
       "      <td>41.939318</td>\n",
       "      <td>41.960739</td>\n",
       "      <td>41.044409</td>\n",
       "      <td>41.127712</td>\n",
       "      <td>153815800</td>\n",
       "      <td>0.0</td>\n",
       "      <td>1.0</td>\n",
       "    </tr>\n",
       "    <tr>\n",
       "      <th>1</th>\n",
       "      <td>AAPL</td>\n",
       "      <td>2018-03-05 00:00:00+00:00</td>\n",
       "      <td>176.82</td>\n",
       "      <td>177.74</td>\n",
       "      <td>174.52</td>\n",
       "      <td>175.21</td>\n",
       "      <td>28401366</td>\n",
       "      <td>42.084503</td>\n",
       "      <td>42.303470</td>\n",
       "      <td>41.537085</td>\n",
       "      <td>41.701310</td>\n",
       "      <td>113605464</td>\n",
       "      <td>0.0</td>\n",
       "      <td>1.0</td>\n",
       "    </tr>\n",
       "    <tr>\n",
       "      <th>2</th>\n",
       "      <td>AAPL</td>\n",
       "      <td>2018-03-06 00:00:00+00:00</td>\n",
       "      <td>176.67</td>\n",
       "      <td>178.25</td>\n",
       "      <td>176.13</td>\n",
       "      <td>177.91</td>\n",
       "      <td>23788506</td>\n",
       "      <td>42.048801</td>\n",
       "      <td>42.424853</td>\n",
       "      <td>41.920277</td>\n",
       "      <td>42.343931</td>\n",
       "      <td>95154024</td>\n",
       "      <td>0.0</td>\n",
       "      <td>1.0</td>\n",
       "    </tr>\n",
       "    <tr>\n",
       "      <th>3</th>\n",
       "      <td>AAPL</td>\n",
       "      <td>2018-03-07 00:00:00+00:00</td>\n",
       "      <td>175.03</td>\n",
       "      <td>175.85</td>\n",
       "      <td>174.27</td>\n",
       "      <td>174.94</td>\n",
       "      <td>31703462</td>\n",
       "      <td>41.658469</td>\n",
       "      <td>41.853635</td>\n",
       "      <td>41.477583</td>\n",
       "      <td>41.637048</td>\n",
       "      <td>126813848</td>\n",
       "      <td>0.0</td>\n",
       "      <td>1.0</td>\n",
       "    </tr>\n",
       "    <tr>\n",
       "      <th>4</th>\n",
       "      <td>AAPL</td>\n",
       "      <td>2018-03-08 00:00:00+00:00</td>\n",
       "      <td>176.94</td>\n",
       "      <td>177.12</td>\n",
       "      <td>175.07</td>\n",
       "      <td>175.48</td>\n",
       "      <td>23163767</td>\n",
       "      <td>42.113063</td>\n",
       "      <td>42.155905</td>\n",
       "      <td>41.667989</td>\n",
       "      <td>41.765572</td>\n",
       "      <td>92655068</td>\n",
       "      <td>0.0</td>\n",
       "      <td>1.0</td>\n",
       "    </tr>\n",
       "  </tbody>\n",
       "</table>\n",
       "</div>"
      ],
      "text/plain": [
       "  symbol                       date   close    high     low    open    volume  \\\n",
       "0   AAPL  2018-03-02 00:00:00+00:00  176.21  176.30  172.45  172.80  38453950   \n",
       "1   AAPL  2018-03-05 00:00:00+00:00  176.82  177.74  174.52  175.21  28401366   \n",
       "2   AAPL  2018-03-06 00:00:00+00:00  176.67  178.25  176.13  177.91  23788506   \n",
       "3   AAPL  2018-03-07 00:00:00+00:00  175.03  175.85  174.27  174.94  31703462   \n",
       "4   AAPL  2018-03-08 00:00:00+00:00  176.94  177.12  175.07  175.48  23163767   \n",
       "\n",
       "    adjClose    adjHigh     adjLow    adjOpen  adjVolume  divCash  splitFactor  \n",
       "0  41.939318  41.960739  41.044409  41.127712  153815800      0.0          1.0  \n",
       "1  42.084503  42.303470  41.537085  41.701310  113605464      0.0          1.0  \n",
       "2  42.048801  42.424853  41.920277  42.343931   95154024      0.0          1.0  \n",
       "3  41.658469  41.853635  41.477583  41.637048  126813848      0.0          1.0  \n",
       "4  42.113063  42.155905  41.667989  41.765572   92655068      0.0          1.0  "
      ]
     },
     "execution_count": 14,
     "metadata": {},
     "output_type": "execute_result"
    }
   ],
   "source": [
    "df.head()"
   ]
  },
  {
   "cell_type": "code",
   "execution_count": 15,
   "id": "f1cd36e9",
   "metadata": {},
   "outputs": [
    {
     "data": {
      "text/html": [
       "<div>\n",
       "<style scoped>\n",
       "    .dataframe tbody tr th:only-of-type {\n",
       "        vertical-align: middle;\n",
       "    }\n",
       "\n",
       "    .dataframe tbody tr th {\n",
       "        vertical-align: top;\n",
       "    }\n",
       "\n",
       "    .dataframe thead th {\n",
       "        text-align: right;\n",
       "    }\n",
       "</style>\n",
       "<table border=\"1\" class=\"dataframe\">\n",
       "  <thead>\n",
       "    <tr style=\"text-align: right;\">\n",
       "      <th></th>\n",
       "      <th>symbol</th>\n",
       "      <th>date</th>\n",
       "      <th>close</th>\n",
       "      <th>high</th>\n",
       "      <th>low</th>\n",
       "      <th>open</th>\n",
       "      <th>volume</th>\n",
       "      <th>adjClose</th>\n",
       "      <th>adjHigh</th>\n",
       "      <th>adjLow</th>\n",
       "      <th>adjOpen</th>\n",
       "      <th>adjVolume</th>\n",
       "      <th>divCash</th>\n",
       "      <th>splitFactor</th>\n",
       "    </tr>\n",
       "  </thead>\n",
       "  <tbody>\n",
       "    <tr>\n",
       "      <th>1252</th>\n",
       "      <td>AAPL</td>\n",
       "      <td>2023-02-22 00:00:00+00:00</td>\n",
       "      <td>148.91</td>\n",
       "      <td>149.95</td>\n",
       "      <td>147.1600</td>\n",
       "      <td>148.87</td>\n",
       "      <td>51011305</td>\n",
       "      <td>148.91</td>\n",
       "      <td>149.95</td>\n",
       "      <td>147.1600</td>\n",
       "      <td>148.87</td>\n",
       "      <td>51011305</td>\n",
       "      <td>0.0</td>\n",
       "      <td>1.0</td>\n",
       "    </tr>\n",
       "    <tr>\n",
       "      <th>1253</th>\n",
       "      <td>AAPL</td>\n",
       "      <td>2023-02-23 00:00:00+00:00</td>\n",
       "      <td>149.40</td>\n",
       "      <td>150.34</td>\n",
       "      <td>147.2400</td>\n",
       "      <td>150.09</td>\n",
       "      <td>48394249</td>\n",
       "      <td>149.40</td>\n",
       "      <td>150.34</td>\n",
       "      <td>147.2400</td>\n",
       "      <td>150.09</td>\n",
       "      <td>48394249</td>\n",
       "      <td>0.0</td>\n",
       "      <td>1.0</td>\n",
       "    </tr>\n",
       "    <tr>\n",
       "      <th>1254</th>\n",
       "      <td>AAPL</td>\n",
       "      <td>2023-02-24 00:00:00+00:00</td>\n",
       "      <td>146.71</td>\n",
       "      <td>147.19</td>\n",
       "      <td>145.7202</td>\n",
       "      <td>147.11</td>\n",
       "      <td>55469606</td>\n",
       "      <td>146.71</td>\n",
       "      <td>147.19</td>\n",
       "      <td>145.7202</td>\n",
       "      <td>147.11</td>\n",
       "      <td>55469606</td>\n",
       "      <td>0.0</td>\n",
       "      <td>1.0</td>\n",
       "    </tr>\n",
       "    <tr>\n",
       "      <th>1255</th>\n",
       "      <td>AAPL</td>\n",
       "      <td>2023-02-27 00:00:00+00:00</td>\n",
       "      <td>147.92</td>\n",
       "      <td>149.17</td>\n",
       "      <td>147.4500</td>\n",
       "      <td>147.71</td>\n",
       "      <td>44998470</td>\n",
       "      <td>147.92</td>\n",
       "      <td>149.17</td>\n",
       "      <td>147.4500</td>\n",
       "      <td>147.71</td>\n",
       "      <td>44998470</td>\n",
       "      <td>0.0</td>\n",
       "      <td>1.0</td>\n",
       "    </tr>\n",
       "    <tr>\n",
       "      <th>1256</th>\n",
       "      <td>AAPL</td>\n",
       "      <td>2023-02-28 00:00:00+00:00</td>\n",
       "      <td>147.41</td>\n",
       "      <td>149.08</td>\n",
       "      <td>146.8300</td>\n",
       "      <td>147.05</td>\n",
       "      <td>50546998</td>\n",
       "      <td>147.41</td>\n",
       "      <td>149.08</td>\n",
       "      <td>146.8300</td>\n",
       "      <td>147.05</td>\n",
       "      <td>50546998</td>\n",
       "      <td>0.0</td>\n",
       "      <td>1.0</td>\n",
       "    </tr>\n",
       "  </tbody>\n",
       "</table>\n",
       "</div>"
      ],
      "text/plain": [
       "     symbol                       date   close    high       low    open  \\\n",
       "1252   AAPL  2023-02-22 00:00:00+00:00  148.91  149.95  147.1600  148.87   \n",
       "1253   AAPL  2023-02-23 00:00:00+00:00  149.40  150.34  147.2400  150.09   \n",
       "1254   AAPL  2023-02-24 00:00:00+00:00  146.71  147.19  145.7202  147.11   \n",
       "1255   AAPL  2023-02-27 00:00:00+00:00  147.92  149.17  147.4500  147.71   \n",
       "1256   AAPL  2023-02-28 00:00:00+00:00  147.41  149.08  146.8300  147.05   \n",
       "\n",
       "        volume  adjClose  adjHigh    adjLow  adjOpen  adjVolume  divCash  \\\n",
       "1252  51011305    148.91   149.95  147.1600   148.87   51011305      0.0   \n",
       "1253  48394249    149.40   150.34  147.2400   150.09   48394249      0.0   \n",
       "1254  55469606    146.71   147.19  145.7202   147.11   55469606      0.0   \n",
       "1255  44998470    147.92   149.17  147.4500   147.71   44998470      0.0   \n",
       "1256  50546998    147.41   149.08  146.8300   147.05   50546998      0.0   \n",
       "\n",
       "      splitFactor  \n",
       "1252          1.0  \n",
       "1253          1.0  \n",
       "1254          1.0  \n",
       "1255          1.0  \n",
       "1256          1.0  "
      ]
     },
     "execution_count": 15,
     "metadata": {},
     "output_type": "execute_result"
    }
   ],
   "source": [
    "df.tail()"
   ]
  },
  {
   "cell_type": "code",
   "execution_count": 18,
   "id": "699349f8",
   "metadata": {},
   "outputs": [],
   "source": [
    "df1=df.reset_index()['close']"
   ]
  },
  {
   "cell_type": "code",
   "execution_count": 19,
   "id": "5fa26035",
   "metadata": {},
   "outputs": [
    {
     "data": {
      "text/plain": [
       "0       176.21\n",
       "1       176.82\n",
       "2       176.67\n",
       "3       175.03\n",
       "4       176.94\n",
       "         ...  \n",
       "1252    148.91\n",
       "1253    149.40\n",
       "1254    146.71\n",
       "1255    147.92\n",
       "1256    147.41\n",
       "Name: close, Length: 1257, dtype: float64"
      ]
     },
     "execution_count": 19,
     "metadata": {},
     "output_type": "execute_result"
    }
   ],
   "source": [
    "df1"
   ]
  },
  {
   "cell_type": "code",
   "execution_count": 20,
   "id": "1e6aba22",
   "metadata": {},
   "outputs": [
    {
     "data": {
      "text/plain": [
       "(1257,)"
      ]
     },
     "execution_count": 20,
     "metadata": {},
     "output_type": "execute_result"
    }
   ],
   "source": [
    "df1.shape"
   ]
  },
  {
   "cell_type": "code",
   "execution_count": 22,
   "id": "b80f1b80",
   "metadata": {},
   "outputs": [
    {
     "data": {
      "text/plain": [
       "[<matplotlib.lines.Line2D at 0x287d66ef5e0>]"
      ]
     },
     "execution_count": 22,
     "metadata": {},
     "output_type": "execute_result"
    },
    {
     "data": {
      "image/png": "[encoded data removed]",
      "text/plain": [
       "<Figure size 432x288 with 1 Axes>"
      ]
     },
     "metadata": {
      "needs_background": "light"
     },
     "output_type": "display_data"
    }
   ],
   "source": [
    "import matplotlib.pyplot as plt\n",
    "plt.plot(df1)"
   ]
  },
  {
   "cell_type": "code",
   "execution_count": 23,
   "id": "45b89d43",
   "metadata": {},
   "outputs": [],
   "source": [
    "import numpy as np"
   ]
  },
  {
   "cell_type": "code",
   "execution_count": 25,
   "id": "eac2b8ec",
   "metadata": {},
   "outputs": [],
   "source": [
    "from sklearn.preprocessing import MinMaxScaler\n",
    "scaler=MinMaxScaler(feature_range=(0,1))\n",
    "df1=scaler.fit_transform(np.array(df1).reshape(-1,1))"
   ]
  },
  {
   "cell_type": "code",
   "execution_count": 26,
   "id": "5b0f9bf7",
   "metadata": {},
   "outputs": [
    {
     "data": {
      "text/plain": [
       "array([[0.17375078],\n",
       "       [0.17527865],\n",
       "       [0.17490294],\n",
       "       ...,\n",
       "       [0.09986224],\n",
       "       [0.10289292],\n",
       "       [0.10161553]])"
      ]
     },
     "execution_count": 26,
     "metadata": {},
     "output_type": "execute_result"
    }
   ],
   "source": [
    "df1"
   ]
  },
  {
   "cell_type": "code",
   "execution_count": 27,
   "id": "a173eada",
   "metadata": {},
   "outputs": [],
   "source": [
    "training_size=int(len(df1)*0.65)\n",
    "test_size=len(df1)-training_size\n",
    "train_data,test_data=df1[0:training_size,:],df1[training_size:len(df1),:1]"
   ]
  },
  {
   "cell_type": "code",
   "execution_count": 28,
   "id": "5a82d08b",
   "metadata": {},
   "outputs": [
    {
     "data": {
      "text/plain": [
       "(817, 440)"
      ]
     },
     "execution_count": 28,
     "metadata": {},
     "output_type": "execute_result"
    }
   ],
   "source": [
    "training_size,test_size"
   ]
  },
  {
   "cell_type": "code",
   "execution_count": 29,
   "id": "f5887b5e",
   "metadata": {},
   "outputs": [],
   "source": [
    "import numpy as np"
   ]
  },
  {
   "cell_type": "code",
   "execution_count": 34,
   "id": "48c81555",
   "metadata": {},
   "outputs": [],
   "source": [
    "def create_dataset(dataset,time_step=1):\n",
    "    dataX,dataY =[],[]\n",
    "    for i in range (len(dataset)-time_step-1):\n",
    "        a=dataset[i:(i+time_step),0]\n",
    "        dataX.append(a)\n",
    "        dataY.append(dataset[i+time_step,0])\n",
    "    return np.array(dataX),np.array(dataY)    "
   ]
  },
  {
   "cell_type": "code",
   "execution_count": 35,
   "id": "1a621274",
   "metadata": {},
   "outputs": [],
   "source": [
    "time_step=100\n",
    "X_train,y_train=create_dataset(train_data,time_step)\n",
    "X_test,y_test=create_dataset(test_data,time_step)\n"
   ]
  },
  {
   "cell_type": "code",
   "execution_count": 36,
   "id": "d47ee682",
   "metadata": {},
   "outputs": [
    {
     "name": "stdout",
     "output_type": "stream",
     "text": [
      "[[0.17375078 0.17527865 0.17490294 ... 0.21189731 0.21232311 0.21580463]\n",
      " [0.17527865 0.17490294 0.17079524 ... 0.21232311 0.21580463 0.22036318]\n",
      " [0.17490294 0.17079524 0.17557921 ... 0.21580463 0.22036318 0.21883532]\n",
      " ...\n",
      " [0.06732624 0.0647464  0.056531   ... 0.05127113 0.0465623  0.05074515]\n",
      " [0.0647464  0.056531   0.06053851 ... 0.0465623  0.05074515 0.05024421]\n",
      " [0.056531   0.06053851 0.0494928  ... 0.05074515 0.05024421 0.05011897]]\n"
     ]
    }
   ],
   "source": [
    "print(X_train)"
   ]
  },
  {
   "cell_type": "code",
   "execution_count": 37,
   "id": "51c99267",
   "metadata": {},
   "outputs": [
    {
     "name": "stdout",
     "output_type": "stream",
     "text": [
      "(339, 100)\n",
      "(339,)\n"
     ]
    },
    {
     "data": {
      "text/plain": [
       "(None, None)"
      ]
     },
     "execution_count": 37,
     "metadata": {},
     "output_type": "execute_result"
    }
   ],
   "source": [
    "print(X_test.shape),print(y_test.shape)"
   ]
  },
  {
   "cell_type": "code",
   "execution_count": 39,
   "id": "279e938c",
   "metadata": {},
   "outputs": [],
   "source": [
    "X_train=X_train.reshape(X_train.shape[0],X_train.shape[1],1)\n",
    "X_test = X_test.reshape(X_test.shape[0],X_test.shape[1],1)"
   ]
  },
  {
   "cell_type": "code",
   "execution_count": 41,
   "id": "e18699e7",
   "metadata": {},
   "outputs": [],
   "source": [
    "from tensorflow.keras.models import Sequential\n",
    "from tensorflow.keras.layers import Dense\n",
    "from tensorflow.keras.layers import LSTM"
   ]
  },
  {
   "cell_type": "code",
   "execution_count": 43,
   "id": "0e2b8ee1",
   "metadata": {},
   "outputs": [],
   "source": [
    "model=Sequential()\n",
    "model.add(LSTM(50,return_sequences=True,input_shape=(100,1)))\n",
    "model.add(LSTM(50,return_sequences=True))\n",
    "model.add(LSTM(50))\n",
    "model.add(Dense(1))\n",
    "model.compile(loss='mean_squared_error',optimizer='adam')"
   ]
  },
  {
   "cell_type": "code",
   "execution_count": 46,
   "id": "855231ac",
   "metadata": {},
   "outputs": [
    {
     "name": "stdout",
     "output_type": "stream",
     "text": [
      "Model: \"sequential\"\n",
      "_________________________________________________________________\n",
      " Layer (type)                Output Shape              Param #   \n",
      "=================================================================\n",
      " lstm_1 (LSTM)               (None, 100, 50)           10400     \n",
      "                                                                 \n",
      " lstm_2 (LSTM)               (None, 100, 50)           20200     \n",
      "                                                                 \n",
      " lstm_3 (LSTM)               (None, 50)                20200     \n",
      "                                                                 \n",
      " dense (Dense)               (None, 1)                 51        \n",
      "                                                                 \n",
      "=================================================================\n",
      "Total params: 50,851\n",
      "Trainable params: 50,851\n",
      "Non-trainable params: 0\n",
      "_________________________________________________________________\n"
     ]
    }
   ],
   "source": [
    "model.summary()"
   ]
  },
  {
   "cell_type": "code",
   "execution_count": 47,
   "id": "b8ba4025",
   "metadata": {},
   "outputs": [
    {
     "name": "stdout",
     "output_type": "stream",
     "text": [
      "Epoch 1/100\n",
      "12/12 [==============================] - 6s 200ms/step - loss: 0.0447 - val_loss: 7.3739e-04\n",
      "Epoch 2/100\n",
      "12/12 [==============================] - 2s 122ms/step - loss: 0.0226 - val_loss: 0.0093\n",
      "Epoch 3/100\n",
      "12/12 [==============================] - 2s 127ms/step - loss: 0.0125 - val_loss: 6.1273e-04\n",
      "Epoch 4/100\n",
      "12/12 [==============================] - 1s 120ms/step - loss: 0.0100 - val_loss: 4.2863e-04\n",
      "Epoch 5/100\n",
      "12/12 [==============================] - 1s 119ms/step - loss: 0.0090 - val_loss: 4.1852e-04\n",
      "Epoch 6/100\n",
      "12/12 [==============================] - 1s 122ms/step - loss: 0.0079 - val_loss: 0.0011\n",
      "Epoch 7/100\n",
      "12/12 [==============================] - 1s 121ms/step - loss: 0.0074 - val_loss: 4.0709e-04\n",
      "Epoch 8/100\n",
      "12/12 [==============================] - 1s 121ms/step - loss: 0.0073 - val_loss: 9.1952e-04\n",
      "Epoch 9/100\n",
      "12/12 [==============================] - 1s 119ms/step - loss: 0.0072 - val_loss: 6.5802e-04\n",
      "Epoch 10/100\n",
      "12/12 [==============================] - 1s 121ms/step - loss: 0.0066 - val_loss: 4.1717e-04\n",
      "Epoch 11/100\n",
      "12/12 [==============================] - 1s 120ms/step - loss: 0.0051 - val_loss: 4.0696e-04\n",
      "Epoch 12/100\n",
      "12/12 [==============================] - 1s 126ms/step - loss: 0.0047 - val_loss: 5.1847e-04\n",
      "Epoch 13/100\n",
      "12/12 [==============================] - 1s 123ms/step - loss: 0.0041 - val_loss: 3.7974e-04\n",
      "Epoch 14/100\n",
      "12/12 [==============================] - 2s 127ms/step - loss: 0.0037 - val_loss: 3.5243e-04\n",
      "Epoch 15/100\n",
      "12/12 [==============================] - 1s 123ms/step - loss: 0.0034 - val_loss: 3.6176e-04\n",
      "Epoch 16/100\n",
      "12/12 [==============================] - 1s 120ms/step - loss: 0.0029 - val_loss: 5.7190e-04\n",
      "Epoch 17/100\n",
      "12/12 [==============================] - 1s 122ms/step - loss: 0.0031 - val_loss: 2.7577e-04\n",
      "Epoch 18/100\n",
      "12/12 [==============================] - 1s 119ms/step - loss: 0.0027 - val_loss: 7.6243e-04\n",
      "Epoch 19/100\n",
      "12/12 [==============================] - 1s 119ms/step - loss: 0.0029 - val_loss: 2.7763e-04\n",
      "Epoch 20/100\n",
      "12/12 [==============================] - 1s 121ms/step - loss: 0.0030 - val_loss: 2.7312e-04\n",
      "Epoch 21/100\n",
      "12/12 [==============================] - 1s 123ms/step - loss: 0.0020 - val_loss: 3.6886e-04\n",
      "Epoch 22/100\n",
      "12/12 [==============================] - 1s 125ms/step - loss: 0.0022 - val_loss: 2.7956e-04\n",
      "Epoch 23/100\n",
      "12/12 [==============================] - 1s 123ms/step - loss: 0.0024 - val_loss: 3.4843e-04\n",
      "Epoch 24/100\n",
      "12/12 [==============================] - 2s 130ms/step - loss: 0.0028 - val_loss: 6.6344e-04\n",
      "Epoch 25/100\n",
      "12/12 [==============================] - 2s 135ms/step - loss: 0.0027 - val_loss: 3.0040e-04\n",
      "Epoch 26/100\n",
      "12/12 [==============================] - 1s 126ms/step - loss: 0.0025 - val_loss: 5.6089e-04\n",
      "Epoch 27/100\n",
      "12/12 [==============================] - 1s 124ms/step - loss: 0.0020 - val_loss: 3.2460e-04\n",
      "Epoch 28/100\n",
      "12/12 [==============================] - 1s 123ms/step - loss: 0.0025 - val_loss: 2.7516e-04\n",
      "Epoch 29/100\n",
      "12/12 [==============================] - 1s 124ms/step - loss: 0.0036 - val_loss: 3.9656e-04\n",
      "Epoch 30/100\n",
      "12/12 [==============================] - 1s 126ms/step - loss: 0.0022 - val_loss: 2.7599e-04\n",
      "Epoch 31/100\n",
      "12/12 [==============================] - 1s 125ms/step - loss: 0.0021 - val_loss: 4.7897e-04\n",
      "Epoch 32/100\n",
      "12/12 [==============================] - 1s 122ms/step - loss: 0.0034 - val_loss: 3.2641e-04\n",
      "Epoch 33/100\n",
      "12/12 [==============================] - 1s 120ms/step - loss: 0.0050 - val_loss: 4.0395e-04\n",
      "Epoch 34/100\n",
      "12/12 [==============================] - 1s 120ms/step - loss: 0.0039 - val_loss: 3.7435e-04\n",
      "Epoch 35/100\n",
      "12/12 [==============================] - 1s 118ms/step - loss: 0.0028 - val_loss: 3.0285e-04\n",
      "Epoch 36/100\n",
      "12/12 [==============================] - 1s 121ms/step - loss: 0.0022 - val_loss: 2.8477e-04\n",
      "Epoch 37/100\n",
      "12/12 [==============================] - 1s 119ms/step - loss: 0.0021 - val_loss: 3.9512e-04\n",
      "Epoch 38/100\n",
      "12/12 [==============================] - 1s 119ms/step - loss: 0.0029 - val_loss: 3.4112e-04\n",
      "Epoch 39/100\n",
      "12/12 [==============================] - 1s 124ms/step - loss: 0.0018 - val_loss: 2.8616e-04\n",
      "Epoch 40/100\n",
      "12/12 [==============================] - 1s 120ms/step - loss: 0.0019 - val_loss: 2.8292e-04\n",
      "Epoch 41/100\n",
      "12/12 [==============================] - 1s 119ms/step - loss: 0.0017 - val_loss: 2.9744e-04\n",
      "Epoch 42/100\n",
      "12/12 [==============================] - 1s 120ms/step - loss: 0.0019 - val_loss: 2.8061e-04\n",
      "Epoch 43/100\n",
      "12/12 [==============================] - 1s 118ms/step - loss: 0.0018 - val_loss: 2.9296e-04\n",
      "Epoch 44/100\n",
      "12/12 [==============================] - 1s 117ms/step - loss: 0.0016 - val_loss: 2.8815e-04\n",
      "Epoch 45/100\n",
      "12/12 [==============================] - 1s 120ms/step - loss: 0.0016 - val_loss: 2.7933e-04\n",
      "Epoch 46/100\n",
      "12/12 [==============================] - 1s 122ms/step - loss: 0.0015 - val_loss: 2.9222e-04\n",
      "Epoch 47/100\n",
      "12/12 [==============================] - 1s 125ms/step - loss: 0.0015 - val_loss: 3.4052e-04\n",
      "Epoch 48/100\n",
      "12/12 [==============================] - 1s 121ms/step - loss: 0.0019 - val_loss: 2.7645e-04\n",
      "Epoch 49/100\n",
      "12/12 [==============================] - 1s 120ms/step - loss: 0.0050 - val_loss: 0.0012\n",
      "Epoch 50/100\n",
      "12/12 [==============================] - 1s 121ms/step - loss: 0.0039 - val_loss: 3.9105e-04\n",
      "Epoch 51/100\n",
      "12/12 [==============================] - 1s 118ms/step - loss: 0.0027 - val_loss: 2.8836e-04\n",
      "Epoch 52/100\n",
      "12/12 [==============================] - 1s 119ms/step - loss: 0.0023 - val_loss: 3.8287e-04\n",
      "Epoch 53/100\n",
      "12/12 [==============================] - 1s 120ms/step - loss: 0.0035 - val_loss: 5.6927e-04\n",
      "Epoch 54/100\n",
      "12/12 [==============================] - 1s 123ms/step - loss: 0.0039 - val_loss: 3.9521e-04\n",
      "Epoch 55/100\n",
      "12/12 [==============================] - 1s 121ms/step - loss: 0.0026 - val_loss: 3.0108e-04\n",
      "Epoch 56/100\n",
      "12/12 [==============================] - 1s 119ms/step - loss: 0.0019 - val_loss: 3.8299e-04\n",
      "Epoch 57/100\n",
      "12/12 [==============================] - 1s 119ms/step - loss: 0.0018 - val_loss: 2.8228e-04\n",
      "Epoch 58/100\n",
      "12/12 [==============================] - 1s 123ms/step - loss: 0.0019 - val_loss: 2.7750e-04\n",
      "Epoch 59/100\n",
      "12/12 [==============================] - 1s 119ms/step - loss: 0.0016 - val_loss: 2.8270e-04\n",
      "Epoch 60/100\n",
      "12/12 [==============================] - 1s 119ms/step - loss: 0.0016 - val_loss: 2.7740e-04\n",
      "Epoch 61/100\n",
      "12/12 [==============================] - 1s 124ms/step - loss: 0.0018 - val_loss: 2.9829e-04\n",
      "Epoch 62/100\n",
      "12/12 [==============================] - 1s 121ms/step - loss: 0.0042 - val_loss: 2.5508e-04\n",
      "Epoch 63/100\n",
      "12/12 [==============================] - 1s 120ms/step - loss: 0.0049 - val_loss: 3.9334e-04\n",
      "Epoch 64/100\n",
      "12/12 [==============================] - 1s 119ms/step - loss: 0.0043 - val_loss: 3.6780e-04\n",
      "Epoch 65/100\n",
      "12/12 [==============================] - 1s 125ms/step - loss: 0.0036 - val_loss: 3.0260e-04\n",
      "Epoch 66/100\n",
      "12/12 [==============================] - 1s 123ms/step - loss: 0.0032 - val_loss: 3.1210e-04\n",
      "Epoch 67/100\n",
      "12/12 [==============================] - 1s 122ms/step - loss: 0.0028 - val_loss: 2.7647e-04\n",
      "Epoch 68/100\n",
      "12/12 [==============================] - 1s 123ms/step - loss: 0.0025 - val_loss: 3.0822e-04\n",
      "Epoch 69/100\n",
      "12/12 [==============================] - 1s 123ms/step - loss: 0.0034 - val_loss: 2.6889e-04\n",
      "Epoch 70/100\n",
      "12/12 [==============================] - 1s 119ms/step - loss: 0.0029 - val_loss: 2.5726e-04\n",
      "Epoch 71/100\n",
      "12/12 [==============================] - 1s 118ms/step - loss: 0.0023 - val_loss: 2.6055e-04\n",
      "Epoch 72/100\n",
      "12/12 [==============================] - 1s 120ms/step - loss: 0.0018 - val_loss: 2.5461e-04\n",
      "Epoch 73/100\n",
      "12/12 [==============================] - 1s 119ms/step - loss: 0.0017 - val_loss: 2.7419e-04\n",
      "Epoch 74/100\n",
      "12/12 [==============================] - 1s 119ms/step - loss: 0.0017 - val_loss: 2.6812e-04\n",
      "Epoch 75/100\n",
      "12/12 [==============================] - 1s 122ms/step - loss: 0.0016 - val_loss: 2.5625e-04\n",
      "Epoch 76/100\n",
      "12/12 [==============================] - 1s 120ms/step - loss: 0.0017 - val_loss: 3.3077e-04\n",
      "Epoch 77/100\n",
      "12/12 [==============================] - 1s 121ms/step - loss: 0.0021 - val_loss: 3.2362e-04\n",
      "Epoch 78/100\n",
      "12/12 [==============================] - 1s 120ms/step - loss: 0.0024 - val_loss: 2.7907e-04\n",
      "Epoch 79/100\n",
      "12/12 [==============================] - 1s 118ms/step - loss: 0.0017 - val_loss: 2.7108e-04\n",
      "Epoch 80/100\n",
      "12/12 [==============================] - 1s 120ms/step - loss: 0.0015 - val_loss: 2.7620e-04\n",
      "Epoch 81/100\n",
      "12/12 [==============================] - 1s 120ms/step - loss: 0.0015 - val_loss: 2.6787e-04\n",
      "Epoch 82/100\n",
      "12/12 [==============================] - 1s 119ms/step - loss: 0.0015 - val_loss: 2.8280e-04\n",
      "Epoch 83/100\n",
      "12/12 [==============================] - 1s 122ms/step - loss: 0.0014 - val_loss: 2.6274e-04\n",
      "Epoch 84/100\n",
      "12/12 [==============================] - 1s 120ms/step - loss: 0.0015 - val_loss: 2.8113e-04\n",
      "Epoch 85/100\n",
      "12/12 [==============================] - 1s 120ms/step - loss: 0.0045 - val_loss: 7.4986e-04\n",
      "Epoch 86/100\n",
      "12/12 [==============================] - 1s 120ms/step - loss: 0.0024 - val_loss: 3.0206e-04\n",
      "Epoch 87/100\n",
      "12/12 [==============================] - 1s 119ms/step - loss: 0.0023 - val_loss: 3.2274e-04\n",
      "Epoch 88/100\n",
      "12/12 [==============================] - 1s 120ms/step - loss: 0.0019 - val_loss: 4.8393e-04\n",
      "Epoch 89/100\n",
      "12/12 [==============================] - 1s 120ms/step - loss: 0.0019 - val_loss: 2.6555e-04\n",
      "Epoch 90/100\n",
      "12/12 [==============================] - 1s 122ms/step - loss: 0.0016 - val_loss: 2.6702e-04\n",
      "Epoch 91/100\n",
      "12/12 [==============================] - 1s 122ms/step - loss: 0.0017 - val_loss: 4.6557e-04\n",
      "Epoch 92/100\n",
      "12/12 [==============================] - 1s 122ms/step - loss: 0.0068 - val_loss: 2.6419e-04\n",
      "Epoch 93/100\n",
      "12/12 [==============================] - 1s 118ms/step - loss: 0.0061 - val_loss: 0.0012\n",
      "Epoch 94/100\n",
      "12/12 [==============================] - 1s 119ms/step - loss: 0.0047 - val_loss: 3.3829e-04\n",
      "Epoch 95/100\n",
      "12/12 [==============================] - 1s 117ms/step - loss: 0.0032 - val_loss: 2.6800e-04\n",
      "Epoch 96/100\n",
      "12/12 [==============================] - 1s 118ms/step - loss: 0.0026 - val_loss: 2.4738e-04\n",
      "Epoch 97/100\n",
      "12/12 [==============================] - 1s 123ms/step - loss: 0.0023 - val_loss: 2.7111e-04\n",
      "Epoch 98/100\n",
      "12/12 [==============================] - 1s 120ms/step - loss: 0.0021 - val_loss: 2.3610e-04\n",
      "Epoch 99/100\n",
      "12/12 [==============================] - 1s 120ms/step - loss: 0.0020 - val_loss: 2.3804e-04\n",
      "Epoch 100/100\n",
      "12/12 [==============================] - 1s 121ms/step - loss: 0.0021 - val_loss: 2.3199e-04\n"
     ]
    },
    {
     "data": {
      "text/plain": [
       "<keras.callbacks.History at 0x287e6d256a0>"
      ]
     },
     "execution_count": 47,
     "metadata": {},
     "output_type": "execute_result"
    }
   ],
   "source": [
    "model.fit(X_train,y_train,validation_data=(X_test,y_test),epochs=100,batch_size=64,verbose=1)"
   ]
  },
  {
   "cell_type": "code",
   "execution_count": 48,
   "id": "f0822bf7",
   "metadata": {},
   "outputs": [],
   "source": [
    "import tensorflow as tf"
   ]
  },
  {
   "cell_type": "code",
   "execution_count": 50,
   "id": "520868cb",
   "metadata": {},
   "outputs": [
    {
     "name": "stdout",
     "output_type": "stream",
     "text": [
      "23/23 [==============================] - 1s 23ms/step\n",
      "11/11 [==============================] - 0s 22ms/step\n"
     ]
    }
   ],
   "source": [
    "train_predict=model.predict(X_train)\n",
    "test_predict=model.predict(X_test)"
   ]
  },
  {
   "cell_type": "code",
   "execution_count": 51,
   "id": "b77c2f75",
   "metadata": {},
   "outputs": [],
   "source": [
    "train_predict=scaler.inverse_transform(train_predict)\n",
    "test_predict=scaler.inverse_transform(test_predict)"
   ]
  },
  {
   "cell_type": "code",
   "execution_count": 52,
   "id": "a43ea6dc",
   "metadata": {},
   "outputs": [],
   "source": [
    "import math"
   ]
  },
  {
   "cell_type": "code",
   "execution_count": 53,
   "id": "16dfac92",
   "metadata": {},
   "outputs": [],
   "source": [
    "from sklearn.metrics import mean_squared_error"
   ]
  },
  {
   "cell_type": "code",
   "execution_count": 54,
   "id": "f744a589",
   "metadata": {},
   "outputs": [
    {
     "data": {
      "text/plain": [
       "225.45664868806708"
      ]
     },
     "execution_count": 54,
     "metadata": {},
     "output_type": "execute_result"
    }
   ],
   "source": [
    "math.sqrt(mean_squared_error(y_train,train_predict))"
   ]
  },
  {
   "cell_type": "code",
   "execution_count": 55,
   "id": "3a7cace2",
   "metadata": {},
   "outputs": [
    {
     "data": {
      "text/plain": [
       "154.64369511579616"
      ]
     },
     "execution_count": 55,
     "metadata": {},
     "output_type": "execute_result"
    }
   ],
   "source": [
    "math.sqrt(mean_squared_error(y_test,test_predict))"
   ]
  },
  {
   "cell_type": "code",
   "execution_count": 58,
   "id": "98395692",
   "metadata": {},
   "outputs": [
    {
     "data": {
      "image/png": "[encoded data removed]",
      "text/plain": [
       "<Figure size 432x288 with 1 Axes>"
      ]
     },
     "metadata": {
      "needs_background": "light"
     },
     "output_type": "display_data"
    }
   ],
   "source": [
    "look_back=100\n",
    "trainPredictPlot=np.empty_like(df1)\n",
    "trainPredictPlot[:, :]=np.nan\n",
    "trainPredictPlot[look_back:len(train_predict)+look_back,:]=train_predict\n",
    "testPredictPlot=np.empty_like(df1)\n",
    "testPredictPlot[:,:]=np.nan\n",
    "testPredictPlot[len(train_predict)+(look_back*2)+1:len(df1)-1,:]=test_predict\n",
    "plt.plot(scaler.inverse_transform(df1))\n",
    "plt.plot(trainPredictPlot)\n",
    "plt.plot(testPredictPlot)\n",
    "plt.show()\n"
   ]
  },
  {
   "cell_type": "code",
   "execution_count": 59,
   "id": "e79f0b29",
   "metadata": {},
   "outputs": [
    {
     "data": {
      "text/plain": [
       "440"
      ]
     },
     "execution_count": 59,
     "metadata": {},
     "output_type": "execute_result"
    }
   ],
   "source": [
    "len(test_data)"
   ]
  },
  {
   "cell_type": "code",
   "execution_count": 62,
   "id": "5fdeb02c",
   "metadata": {},
   "outputs": [
    {
     "data": {
      "text/plain": [
       "(1, 100)"
      ]
     },
     "execution_count": 62,
     "metadata": {},
     "output_type": "execute_result"
    }
   ],
   "source": [
    "x_input=test_data[340:].reshape(1,-1)\n",
    "x_input.shape"
   ]
  },
  {
   "cell_type": "code",
   "execution_count": 64,
   "id": "0c1f3277",
   "metadata": {},
   "outputs": [],
   "source": [
    "temp_input=list(x_input)\n",
    "temp_input=temp_input[0].tolist()"
   ]
  },
  {
   "cell_type": "code",
   "execution_count": 65,
   "id": "d116445b",
   "metadata": {},
   "outputs": [
    {
     "name": "stdout",
     "output_type": "stream",
     "text": [
      "[0.10907441]\n",
      "101\n",
      "1 day input [0.09665623 0.08328115 0.0841077  0.08050094 0.07889793 0.09054477\n",
      " 0.07899812 0.08909205 0.09244834 0.09272386 0.09154665 0.10126487\n",
      " 0.10672511 0.11396368 0.10647464 0.09507827 0.12247965 0.11646838\n",
      " 0.10973075 0.09565435 0.08025047 0.07899812 0.08035066 0.08180338\n",
      " 0.07020664 0.10026299 0.10735128 0.10379461 0.10820288 0.10507201\n",
      " 0.10990607 0.11133375 0.10311835 0.10855354 0.11078272 0.10336882\n",
      " 0.09362555 0.08598622 0.10316844 0.10386976 0.10261741 0.09966187\n",
      " 0.0903444  0.08541014 0.08969317 0.08846587 0.09430182 0.09675642\n",
      " 0.0910958  0.07428929 0.06930495 0.0639449  0.06376957 0.07165936\n",
      " 0.06359424 0.0626675  0.05808391 0.04809017 0.05703193 0.05783344\n",
      " 0.04566061 0.04889167 0.04553538 0.05705698 0.05838447 0.05983719\n",
      " 0.06675016 0.06654978 0.06993112 0.07288666 0.07105823 0.07120852\n",
      " 0.07772073 0.08583594 0.08939261 0.08771446 0.09297433 0.09790858\n",
      " 0.09056982 0.09380088 0.09665623 0.11015654 0.11937383 0.11243582\n",
      " 0.11974953 0.11291171 0.11028178 0.11063244 0.11774577 0.11611772\n",
      " 0.12145272 0.11739512 0.11448967 0.10429555 0.10537257 0.10659987\n",
      " 0.09986224 0.10289292 0.10161553 0.10907441]\n",
      "1 day output [[0.10753162]]\n",
      "2 day input [0.08328115 0.0841077  0.08050094 0.07889793 0.09054477 0.07899812\n",
      " 0.08909205 0.09244834 0.09272386 0.09154665 0.10126487 0.10672511\n",
      " 0.11396368 0.10647464 0.09507827 0.12247965 0.11646838 0.10973075\n",
      " 0.09565435 0.08025047 0.07899812 0.08035066 0.08180338 0.07020664\n",
      " 0.10026299 0.10735128 0.10379461 0.10820288 0.10507201 0.10990607\n",
      " 0.11133375 0.10311835 0.10855354 0.11078272 0.10336882 0.09362555\n",
      " 0.08598622 0.10316844 0.10386976 0.10261741 0.09966187 0.0903444\n",
      " 0.08541014 0.08969317 0.08846587 0.09430182 0.09675642 0.0910958\n",
      " 0.07428929 0.06930495 0.0639449  0.06376957 0.07165936 0.06359424\n",
      " 0.0626675  0.05808391 0.04809017 0.05703193 0.05783344 0.04566061\n",
      " 0.04889167 0.04553538 0.05705698 0.05838447 0.05983719 0.06675016\n",
      " 0.06654978 0.06993112 0.07288666 0.07105823 0.07120852 0.07772073\n",
      " 0.08583594 0.08939261 0.08771446 0.09297433 0.09790858 0.09056982\n",
      " 0.09380088 0.09665623 0.11015654 0.11937383 0.11243582 0.11974953\n",
      " 0.11291171 0.11028178 0.11063244 0.11774577 0.11611772 0.12145272\n",
      " 0.11739512 0.11448967 0.10429555 0.10537257 0.10659987 0.09986224\n",
      " 0.10289292 0.10161553 0.10907441 0.10753162]\n",
      "2 day output [[0.10639425]]\n",
      "3 day input [0.0841077  0.08050094 0.07889793 0.09054477 0.07899812 0.08909205\n",
      " 0.09244834 0.09272386 0.09154665 0.10126487 0.10672511 0.11396368\n",
      " 0.10647464 0.09507827 0.12247965 0.11646838 0.10973075 0.09565435\n",
      " 0.08025047 0.07899812 0.08035066 0.08180338 0.07020664 0.10026299\n",
      " 0.10735128 0.10379461 0.10820288 0.10507201 0.10990607 0.11133375\n",
      " 0.10311835 0.10855354 0.11078272 0.10336882 0.09362555 0.08598622\n",
      " 0.10316844 0.10386976 0.10261741 0.09966187 0.0903444  0.08541014\n",
      " 0.08969317 0.08846587 0.09430182 0.09675642 0.0910958  0.07428929\n",
      " 0.06930495 0.0639449  0.06376957 0.07165936 0.06359424 0.0626675\n",
      " 0.05808391 0.04809017 0.05703193 0.05783344 0.04566061 0.04889167\n",
      " 0.04553538 0.05705698 0.05838447 0.05983719 0.06675016 0.06654978\n",
      " 0.06993112 0.07288666 0.07105823 0.07120852 0.07772073 0.08583594\n",
      " 0.08939261 0.08771446 0.09297433 0.09790858 0.09056982 0.09380088\n",
      " 0.09665623 0.11015654 0.11937383 0.11243582 0.11974953 0.11291171\n",
      " 0.11028178 0.11063244 0.11774577 0.11611772 0.12145272 0.11739512\n",
      " 0.11448967 0.10429555 0.10537257 0.10659987 0.09986224 0.10289292\n",
      " 0.10161553 0.10907441 0.10753162 0.10639425]\n",
      "3 day output [[0.10559522]]\n",
      "4 day input [0.08050094 0.07889793 0.09054477 0.07899812 0.08909205 0.09244834\n",
      " 0.09272386 0.09154665 0.10126487 0.10672511 0.11396368 0.10647464\n",
      " 0.09507827 0.12247965 0.11646838 0.10973075 0.09565435 0.08025047\n",
      " 0.07899812 0.08035066 0.08180338 0.07020664 0.10026299 0.10735128\n",
      " 0.10379461 0.10820288 0.10507201 0.10990607 0.11133375 0.10311835\n",
      " 0.10855354 0.11078272 0.10336882 0.09362555 0.08598622 0.10316844\n",
      " 0.10386976 0.10261741 0.09966187 0.0903444  0.08541014 0.08969317\n",
      " 0.08846587 0.09430182 0.09675642 0.0910958  0.07428929 0.06930495\n",
      " 0.0639449  0.06376957 0.07165936 0.06359424 0.0626675  0.05808391\n",
      " 0.04809017 0.05703193 0.05783344 0.04566061 0.04889167 0.04553538\n",
      " 0.05705698 0.05838447 0.05983719 0.06675016 0.06654978 0.06993112\n",
      " 0.07288666 0.07105823 0.07120852 0.07772073 0.08583594 0.08939261\n",
      " 0.08771446 0.09297433 0.09790858 0.09056982 0.09380088 0.09665623\n",
      " 0.11015654 0.11937383 0.11243582 0.11974953 0.11291171 0.11028178\n",
      " 0.11063244 0.11774577 0.11611772 0.12145272 0.11739512 0.11448967\n",
      " 0.10429555 0.10537257 0.10659987 0.09986224 0.10289292 0.10161553\n",
      " 0.10907441 0.10753162 0.10639425 0.10559522]\n",
      "4 day output [[0.1050486]]\n",
      "5 day input [0.07889793 0.09054477 0.07899812 0.08909205 0.09244834 0.09272386\n",
      " 0.09154665 0.10126487 0.10672511 0.11396368 0.10647464 0.09507827\n",
      " 0.12247965 0.11646838 0.10973075 0.09565435 0.08025047 0.07899812\n",
      " 0.08035066 0.08180338 0.07020664 0.10026299 0.10735128 0.10379461\n",
      " 0.10820288 0.10507201 0.10990607 0.11133375 0.10311835 0.10855354\n",
      " 0.11078272 0.10336882 0.09362555 0.08598622 0.10316844 0.10386976\n",
      " 0.10261741 0.09966187 0.0903444  0.08541014 0.08969317 0.08846587\n",
      " 0.09430182 0.09675642 0.0910958  0.07428929 0.06930495 0.0639449\n",
      " 0.06376957 0.07165936 0.06359424 0.0626675  0.05808391 0.04809017\n",
      " 0.05703193 0.05783344 0.04566061 0.04889167 0.04553538 0.05705698\n",
      " 0.05838447 0.05983719 0.06675016 0.06654978 0.06993112 0.07288666\n",
      " 0.07105823 0.07120852 0.07772073 0.08583594 0.08939261 0.08771446\n",
      " 0.09297433 0.09790858 0.09056982 0.09380088 0.09665623 0.11015654\n",
      " 0.11937383 0.11243582 0.11974953 0.11291171 0.11028178 0.11063244\n",
      " 0.11774577 0.11611772 0.12145272 0.11739512 0.11448967 0.10429555\n",
      " 0.10537257 0.10659987 0.09986224 0.10289292 0.10161553 0.10907441\n",
      " 0.10753162 0.10639425 0.10559522 0.1050486 ]\n",
      "5 day output [[0.1046827]]\n",
      "6 day input [0.09054477 0.07899812 0.08909205 0.09244834 0.09272386 0.09154665\n",
      " 0.10126487 0.10672511 0.11396368 0.10647464 0.09507827 0.12247965\n",
      " 0.11646838 0.10973075 0.09565435 0.08025047 0.07899812 0.08035066\n",
      " 0.08180338 0.07020664 0.10026299 0.10735128 0.10379461 0.10820288\n",
      " 0.10507201 0.10990607 0.11133375 0.10311835 0.10855354 0.11078272\n",
      " 0.10336882 0.09362555 0.08598622 0.10316844 0.10386976 0.10261741\n",
      " 0.09966187 0.0903444  0.08541014 0.08969317 0.08846587 0.09430182\n",
      " 0.09675642 0.0910958  0.07428929 0.06930495 0.0639449  0.06376957\n",
      " 0.07165936 0.06359424 0.0626675  0.05808391 0.04809017 0.05703193\n",
      " 0.05783344 0.04566061 0.04889167 0.04553538 0.05705698 0.05838447\n",
      " 0.05983719 0.06675016 0.06654978 0.06993112 0.07288666 0.07105823\n",
      " 0.07120852 0.07772073 0.08583594 0.08939261 0.08771446 0.09297433\n",
      " 0.09790858 0.09056982 0.09380088 0.09665623 0.11015654 0.11937383\n",
      " 0.11243582 0.11974953 0.11291171 0.11028178 0.11063244 0.11774577\n",
      " 0.11611772 0.12145272 0.11739512 0.11448967 0.10429555 0.10537257\n",
      " 0.10659987 0.09986224 0.10289292 0.10161553 0.10907441 0.10753162\n",
      " 0.10639425 0.10559522 0.1050486  0.1046827 ]\n",
      "6 day output [[0.10444571]]\n",
      "7 day input [0.07899812 0.08909205 0.09244834 0.09272386 0.09154665 0.10126487\n",
      " 0.10672511 0.11396368 0.10647464 0.09507827 0.12247965 0.11646838\n",
      " 0.10973075 0.09565435 0.08025047 0.07899812 0.08035066 0.08180338\n",
      " 0.07020664 0.10026299 0.10735128 0.10379461 0.10820288 0.10507201\n",
      " 0.10990607 0.11133375 0.10311835 0.10855354 0.11078272 0.10336882\n",
      " 0.09362555 0.08598622 0.10316844 0.10386976 0.10261741 0.09966187\n",
      " 0.0903444  0.08541014 0.08969317 0.08846587 0.09430182 0.09675642\n",
      " 0.0910958  0.07428929 0.06930495 0.0639449  0.06376957 0.07165936\n",
      " 0.06359424 0.0626675  0.05808391 0.04809017 0.05703193 0.05783344\n",
      " 0.04566061 0.04889167 0.04553538 0.05705698 0.05838447 0.05983719\n",
      " 0.06675016 0.06654978 0.06993112 0.07288666 0.07105823 0.07120852\n",
      " 0.07772073 0.08583594 0.08939261 0.08771446 0.09297433 0.09790858\n",
      " 0.09056982 0.09380088 0.09665623 0.11015654 0.11937383 0.11243582\n",
      " 0.11974953 0.11291171 0.11028178 0.11063244 0.11774577 0.11611772\n",
      " 0.12145272 0.11739512 0.11448967 0.10429555 0.10537257 0.10659987\n",
      " 0.09986224 0.10289292 0.10161553 0.10907441 0.10753162 0.10639425\n",
      " 0.10559522 0.1050486  0.1046827  0.10444571]\n",
      "7 day output [[0.10430214]]\n",
      "8 day input [0.08909205 0.09244834 0.09272386 0.09154665 0.10126487 0.10672511\n",
      " 0.11396368 0.10647464 0.09507827 0.12247965 0.11646838 0.10973075\n",
      " 0.09565435 0.08025047 0.07899812 0.08035066 0.08180338 0.07020664\n",
      " 0.10026299 0.10735128 0.10379461 0.10820288 0.10507201 0.10990607\n",
      " 0.11133375 0.10311835 0.10855354 0.11078272 0.10336882 0.09362555\n",
      " 0.08598622 0.10316844 0.10386976 0.10261741 0.09966187 0.0903444\n",
      " 0.08541014 0.08969317 0.08846587 0.09430182 0.09675642 0.0910958\n",
      " 0.07428929 0.06930495 0.0639449  0.06376957 0.07165936 0.06359424\n",
      " 0.0626675  0.05808391 0.04809017 0.05703193 0.05783344 0.04566061\n",
      " 0.04889167 0.04553538 0.05705698 0.05838447 0.05983719 0.06675016\n",
      " 0.06654978 0.06993112 0.07288666 0.07105823 0.07120852 0.07772073\n",
      " 0.08583594 0.08939261 0.08771446 0.09297433 0.09790858 0.09056982\n",
      " 0.09380088 0.09665623 0.11015654 0.11937383 0.11243582 0.11974953\n",
      " 0.11291171 0.11028178 0.11063244 0.11774577 0.11611772 0.12145272\n",
      " 0.11739512 0.11448967 0.10429555 0.10537257 0.10659987 0.09986224\n",
      " 0.10289292 0.10161553 0.10907441 0.10753162 0.10639425 0.10559522\n",
      " 0.1050486  0.1046827  0.10444571 0.10430214]\n",
      "8 day output [[0.10422753]]\n",
      "9 day input [0.09244834 0.09272386 0.09154665 0.10126487 0.10672511 0.11396368\n",
      " 0.10647464 0.09507827 0.12247965 0.11646838 0.10973075 0.09565435\n",
      " 0.08025047 0.07899812 0.08035066 0.08180338 0.07020664 0.10026299\n",
      " 0.10735128 0.10379461 0.10820288 0.10507201 0.10990607 0.11133375\n",
      " 0.10311835 0.10855354 0.11078272 0.10336882 0.09362555 0.08598622\n",
      " 0.10316844 0.10386976 0.10261741 0.09966187 0.0903444  0.08541014\n",
      " 0.08969317 0.08846587 0.09430182 0.09675642 0.0910958  0.07428929\n",
      " 0.06930495 0.0639449  0.06376957 0.07165936 0.06359424 0.0626675\n",
      " 0.05808391 0.04809017 0.05703193 0.05783344 0.04566061 0.04889167\n",
      " 0.04553538 0.05705698 0.05838447 0.05983719 0.06675016 0.06654978\n",
      " 0.06993112 0.07288666 0.07105823 0.07120852 0.07772073 0.08583594\n",
      " 0.08939261 0.08771446 0.09297433 0.09790858 0.09056982 0.09380088\n",
      " 0.09665623 0.11015654 0.11937383 0.11243582 0.11974953 0.11291171\n",
      " 0.11028178 0.11063244 0.11774577 0.11611772 0.12145272 0.11739512\n",
      " 0.11448967 0.10429555 0.10537257 0.10659987 0.09986224 0.10289292\n",
      " 0.10161553 0.10907441 0.10753162 0.10639425 0.10559522 0.1050486\n",
      " 0.1046827  0.10444571 0.10430214 0.10422753]\n",
      "9 day output [[0.10420445]]\n",
      "10 day input [0.09272386 0.09154665 0.10126487 0.10672511 0.11396368 0.10647464\n",
      " 0.09507827 0.12247965 0.11646838 0.10973075 0.09565435 0.08025047\n",
      " 0.07899812 0.08035066 0.08180338 0.07020664 0.10026299 0.10735128\n",
      " 0.10379461 0.10820288 0.10507201 0.10990607 0.11133375 0.10311835\n",
      " 0.10855354 0.11078272 0.10336882 0.09362555 0.08598622 0.10316844\n",
      " 0.10386976 0.10261741 0.09966187 0.0903444  0.08541014 0.08969317\n",
      " 0.08846587 0.09430182 0.09675642 0.0910958  0.07428929 0.06930495\n",
      " 0.0639449  0.06376957 0.07165936 0.06359424 0.0626675  0.05808391\n",
      " 0.04809017 0.05703193 0.05783344 0.04566061 0.04889167 0.04553538\n",
      " 0.05705698 0.05838447 0.05983719 0.06675016 0.06654978 0.06993112\n",
      " 0.07288666 0.07105823 0.07120852 0.07772073 0.08583594 0.08939261\n",
      " 0.08771446 0.09297433 0.09790858 0.09056982 0.09380088 0.09665623\n",
      " 0.11015654 0.11937383 0.11243582 0.11974953 0.11291171 0.11028178\n",
      " 0.11063244 0.11774577 0.11611772 0.12145272 0.11739512 0.11448967\n",
      " 0.10429555 0.10537257 0.10659987 0.09986224 0.10289292 0.10161553\n",
      " 0.10907441 0.10753162 0.10639425 0.10559522 0.1050486  0.1046827\n",
      " 0.10444571 0.10430214 0.10422753 0.10420445]\n",
      "10 day output [[0.10421976]]\n",
      "11 day input [0.09154665 0.10126487 0.10672511 0.11396368 0.10647464 0.09507827\n",
      " 0.12247965 0.11646838 0.10973075 0.09565435 0.08025047 0.07899812\n",
      " 0.08035066 0.08180338 0.07020664 0.10026299 0.10735128 0.10379461\n",
      " 0.10820288 0.10507201 0.10990607 0.11133375 0.10311835 0.10855354\n",
      " 0.11078272 0.10336882 0.09362555 0.08598622 0.10316844 0.10386976\n",
      " 0.10261741 0.09966187 0.0903444  0.08541014 0.08969317 0.08846587\n",
      " 0.09430182 0.09675642 0.0910958  0.07428929 0.06930495 0.0639449\n",
      " 0.06376957 0.07165936 0.06359424 0.0626675  0.05808391 0.04809017\n",
      " 0.05703193 0.05783344 0.04566061 0.04889167 0.04553538 0.05705698\n",
      " 0.05838447 0.05983719 0.06675016 0.06654978 0.06993112 0.07288666\n",
      " 0.07105823 0.07120852 0.07772073 0.08583594 0.08939261 0.08771446\n",
      " 0.09297433 0.09790858 0.09056982 0.09380088 0.09665623 0.11015654\n",
      " 0.11937383 0.11243582 0.11974953 0.11291171 0.11028178 0.11063244\n",
      " 0.11774577 0.11611772 0.12145272 0.11739512 0.11448967 0.10429555\n",
      " 0.10537257 0.10659987 0.09986224 0.10289292 0.10161553 0.10907441\n",
      " 0.10753162 0.10639425 0.10559522 0.1050486  0.1046827  0.10444571\n",
      " 0.10430214 0.10422753 0.10420445 0.10421976]\n",
      "11 day output [[0.10426304]]\n"
     ]
    },
    {
     "name": "stdout",
     "output_type": "stream",
     "text": [
      "12 day input [0.10126487 0.10672511 0.11396368 0.10647464 0.09507827 0.12247965\n",
      " 0.11646838 0.10973075 0.09565435 0.08025047 0.07899812 0.08035066\n",
      " 0.08180338 0.07020664 0.10026299 0.10735128 0.10379461 0.10820288\n",
      " 0.10507201 0.10990607 0.11133375 0.10311835 0.10855354 0.11078272\n",
      " 0.10336882 0.09362555 0.08598622 0.10316844 0.10386976 0.10261741\n",
      " 0.09966187 0.0903444  0.08541014 0.08969317 0.08846587 0.09430182\n",
      " 0.09675642 0.0910958  0.07428929 0.06930495 0.0639449  0.06376957\n",
      " 0.07165936 0.06359424 0.0626675  0.05808391 0.04809017 0.05703193\n",
      " 0.05783344 0.04566061 0.04889167 0.04553538 0.05705698 0.05838447\n",
      " 0.05983719 0.06675016 0.06654978 0.06993112 0.07288666 0.07105823\n",
      " 0.07120852 0.07772073 0.08583594 0.08939261 0.08771446 0.09297433\n",
      " 0.09790858 0.09056982 0.09380088 0.09665623 0.11015654 0.11937383\n",
      " 0.11243582 0.11974953 0.11291171 0.11028178 0.11063244 0.11774577\n",
      " 0.11611772 0.12145272 0.11739512 0.11448967 0.10429555 0.10537257\n",
      " 0.10659987 0.09986224 0.10289292 0.10161553 0.10907441 0.10753162\n",
      " 0.10639425 0.10559522 0.1050486  0.1046827  0.10444571 0.10430214\n",
      " 0.10422753 0.10420445 0.10421976 0.10426304]\n",
      "12 day output [[0.10432582]]\n",
      "13 day input [0.10672511 0.11396368 0.10647464 0.09507827 0.12247965 0.11646838\n",
      " 0.10973075 0.09565435 0.08025047 0.07899812 0.08035066 0.08180338\n",
      " 0.07020664 0.10026299 0.10735128 0.10379461 0.10820288 0.10507201\n",
      " 0.10990607 0.11133375 0.10311835 0.10855354 0.11078272 0.10336882\n",
      " 0.09362555 0.08598622 0.10316844 0.10386976 0.10261741 0.09966187\n",
      " 0.0903444  0.08541014 0.08969317 0.08846587 0.09430182 0.09675642\n",
      " 0.0910958  0.07428929 0.06930495 0.0639449  0.06376957 0.07165936\n",
      " 0.06359424 0.0626675  0.05808391 0.04809017 0.05703193 0.05783344\n",
      " 0.04566061 0.04889167 0.04553538 0.05705698 0.05838447 0.05983719\n",
      " 0.06675016 0.06654978 0.06993112 0.07288666 0.07105823 0.07120852\n",
      " 0.07772073 0.08583594 0.08939261 0.08771446 0.09297433 0.09790858\n",
      " 0.09056982 0.09380088 0.09665623 0.11015654 0.11937383 0.11243582\n",
      " 0.11974953 0.11291171 0.11028178 0.11063244 0.11774577 0.11611772\n",
      " 0.12145272 0.11739512 0.11448967 0.10429555 0.10537257 0.10659987\n",
      " 0.09986224 0.10289292 0.10161553 0.10907441 0.10753162 0.10639425\n",
      " 0.10559522 0.1050486  0.1046827  0.10444571 0.10430214 0.10422753\n",
      " 0.10420445 0.10421976 0.10426304 0.10432582]\n",
      "13 day output [[0.10440117]]\n",
      "14 day input [0.11396368 0.10647464 0.09507827 0.12247965 0.11646838 0.10973075\n",
      " 0.09565435 0.08025047 0.07899812 0.08035066 0.08180338 0.07020664\n",
      " 0.10026299 0.10735128 0.10379461 0.10820288 0.10507201 0.10990607\n",
      " 0.11133375 0.10311835 0.10855354 0.11078272 0.10336882 0.09362555\n",
      " 0.08598622 0.10316844 0.10386976 0.10261741 0.09966187 0.0903444\n",
      " 0.08541014 0.08969317 0.08846587 0.09430182 0.09675642 0.0910958\n",
      " 0.07428929 0.06930495 0.0639449  0.06376957 0.07165936 0.06359424\n",
      " 0.0626675  0.05808391 0.04809017 0.05703193 0.05783344 0.04566061\n",
      " 0.04889167 0.04553538 0.05705698 0.05838447 0.05983719 0.06675016\n",
      " 0.06654978 0.06993112 0.07288666 0.07105823 0.07120852 0.07772073\n",
      " 0.08583594 0.08939261 0.08771446 0.09297433 0.09790858 0.09056982\n",
      " 0.09380088 0.09665623 0.11015654 0.11937383 0.11243582 0.11974953\n",
      " 0.11291171 0.11028178 0.11063244 0.11774577 0.11611772 0.12145272\n",
      " 0.11739512 0.11448967 0.10429555 0.10537257 0.10659987 0.09986224\n",
      " 0.10289292 0.10161553 0.10907441 0.10753162 0.10639425 0.10559522\n",
      " 0.1050486  0.1046827  0.10444571 0.10430214 0.10422753 0.10420445\n",
      " 0.10421976 0.10426304 0.10432582 0.10440117]\n",
      "14 day output [[0.10448349]]\n",
      "15 day input [0.10647464 0.09507827 0.12247965 0.11646838 0.10973075 0.09565435\n",
      " 0.08025047 0.07899812 0.08035066 0.08180338 0.07020664 0.10026299\n",
      " 0.10735128 0.10379461 0.10820288 0.10507201 0.10990607 0.11133375\n",
      " 0.10311835 0.10855354 0.11078272 0.10336882 0.09362555 0.08598622\n",
      " 0.10316844 0.10386976 0.10261741 0.09966187 0.0903444  0.08541014\n",
      " 0.08969317 0.08846587 0.09430182 0.09675642 0.0910958  0.07428929\n",
      " 0.06930495 0.0639449  0.06376957 0.07165936 0.06359424 0.0626675\n",
      " 0.05808391 0.04809017 0.05703193 0.05783344 0.04566061 0.04889167\n",
      " 0.04553538 0.05705698 0.05838447 0.05983719 0.06675016 0.06654978\n",
      " 0.06993112 0.07288666 0.07105823 0.07120852 0.07772073 0.08583594\n",
      " 0.08939261 0.08771446 0.09297433 0.09790858 0.09056982 0.09380088\n",
      " 0.09665623 0.11015654 0.11937383 0.11243582 0.11974953 0.11291171\n",
      " 0.11028178 0.11063244 0.11774577 0.11611772 0.12145272 0.11739512\n",
      " 0.11448967 0.10429555 0.10537257 0.10659987 0.09986224 0.10289292\n",
      " 0.10161553 0.10907441 0.10753162 0.10639425 0.10559522 0.1050486\n",
      " 0.1046827  0.10444571 0.10430214 0.10422753 0.10420445 0.10421976\n",
      " 0.10426304 0.10432582 0.10440117 0.10448349]\n",
      "15 day output [[0.10456833]]\n",
      "16 day input [0.09507827 0.12247965 0.11646838 0.10973075 0.09565435 0.08025047\n",
      " 0.07899812 0.08035066 0.08180338 0.07020664 0.10026299 0.10735128\n",
      " 0.10379461 0.10820288 0.10507201 0.10990607 0.11133375 0.10311835\n",
      " 0.10855354 0.11078272 0.10336882 0.09362555 0.08598622 0.10316844\n",
      " 0.10386976 0.10261741 0.09966187 0.0903444  0.08541014 0.08969317\n",
      " 0.08846587 0.09430182 0.09675642 0.0910958  0.07428929 0.06930495\n",
      " 0.0639449  0.06376957 0.07165936 0.06359424 0.0626675  0.05808391\n",
      " 0.04809017 0.05703193 0.05783344 0.04566061 0.04889167 0.04553538\n",
      " 0.05705698 0.05838447 0.05983719 0.06675016 0.06654978 0.06993112\n",
      " 0.07288666 0.07105823 0.07120852 0.07772073 0.08583594 0.08939261\n",
      " 0.08771446 0.09297433 0.09790858 0.09056982 0.09380088 0.09665623\n",
      " 0.11015654 0.11937383 0.11243582 0.11974953 0.11291171 0.11028178\n",
      " 0.11063244 0.11774577 0.11611772 0.12145272 0.11739512 0.11448967\n",
      " 0.10429555 0.10537257 0.10659987 0.09986224 0.10289292 0.10161553\n",
      " 0.10907441 0.10753162 0.10639425 0.10559522 0.1050486  0.1046827\n",
      " 0.10444571 0.10430214 0.10422753 0.10420445 0.10421976 0.10426304\n",
      " 0.10432582 0.10440117 0.10448349 0.10456833]\n",
      "16 day output [[0.10465233]]\n",
      "17 day input [0.12247965 0.11646838 0.10973075 0.09565435 0.08025047 0.07899812\n",
      " 0.08035066 0.08180338 0.07020664 0.10026299 0.10735128 0.10379461\n",
      " 0.10820288 0.10507201 0.10990607 0.11133375 0.10311835 0.10855354\n",
      " 0.11078272 0.10336882 0.09362555 0.08598622 0.10316844 0.10386976\n",
      " 0.10261741 0.09966187 0.0903444  0.08541014 0.08969317 0.08846587\n",
      " 0.09430182 0.09675642 0.0910958  0.07428929 0.06930495 0.0639449\n",
      " 0.06376957 0.07165936 0.06359424 0.0626675  0.05808391 0.04809017\n",
      " 0.05703193 0.05783344 0.04566061 0.04889167 0.04553538 0.05705698\n",
      " 0.05838447 0.05983719 0.06675016 0.06654978 0.06993112 0.07288666\n",
      " 0.07105823 0.07120852 0.07772073 0.08583594 0.08939261 0.08771446\n",
      " 0.09297433 0.09790858 0.09056982 0.09380088 0.09665623 0.11015654\n",
      " 0.11937383 0.11243582 0.11974953 0.11291171 0.11028178 0.11063244\n",
      " 0.11774577 0.11611772 0.12145272 0.11739512 0.11448967 0.10429555\n",
      " 0.10537257 0.10659987 0.09986224 0.10289292 0.10161553 0.10907441\n",
      " 0.10753162 0.10639425 0.10559522 0.1050486  0.1046827  0.10444571\n",
      " 0.10430214 0.10422753 0.10420445 0.10421976 0.10426304 0.10432582\n",
      " 0.10440117 0.10448349 0.10456833 0.10465233]\n",
      "17 day output [[0.10473315]]\n",
      "18 day input [0.11646838 0.10973075 0.09565435 0.08025047 0.07899812 0.08035066\n",
      " 0.08180338 0.07020664 0.10026299 0.10735128 0.10379461 0.10820288\n",
      " 0.10507201 0.10990607 0.11133375 0.10311835 0.10855354 0.11078272\n",
      " 0.10336882 0.09362555 0.08598622 0.10316844 0.10386976 0.10261741\n",
      " 0.09966187 0.0903444  0.08541014 0.08969317 0.08846587 0.09430182\n",
      " 0.09675642 0.0910958  0.07428929 0.06930495 0.0639449  0.06376957\n",
      " 0.07165936 0.06359424 0.0626675  0.05808391 0.04809017 0.05703193\n",
      " 0.05783344 0.04566061 0.04889167 0.04553538 0.05705698 0.05838447\n",
      " 0.05983719 0.06675016 0.06654978 0.06993112 0.07288666 0.07105823\n",
      " 0.07120852 0.07772073 0.08583594 0.08939261 0.08771446 0.09297433\n",
      " 0.09790858 0.09056982 0.09380088 0.09665623 0.11015654 0.11937383\n",
      " 0.11243582 0.11974953 0.11291171 0.11028178 0.11063244 0.11774577\n",
      " 0.11611772 0.12145272 0.11739512 0.11448967 0.10429555 0.10537257\n",
      " 0.10659987 0.09986224 0.10289292 0.10161553 0.10907441 0.10753162\n",
      " 0.10639425 0.10559522 0.1050486  0.1046827  0.10444571 0.10430214\n",
      " 0.10422753 0.10420445 0.10421976 0.10426304 0.10432582 0.10440117\n",
      " 0.10448349 0.10456833 0.10465233 0.10473315]\n",
      "18 day output [[0.10480921]]\n",
      "19 day input [0.10973075 0.09565435 0.08025047 0.07899812 0.08035066 0.08180338\n",
      " 0.07020664 0.10026299 0.10735128 0.10379461 0.10820288 0.10507201\n",
      " 0.10990607 0.11133375 0.10311835 0.10855354 0.11078272 0.10336882\n",
      " 0.09362555 0.08598622 0.10316844 0.10386976 0.10261741 0.09966187\n",
      " 0.0903444  0.08541014 0.08969317 0.08846587 0.09430182 0.09675642\n",
      " 0.0910958  0.07428929 0.06930495 0.0639449  0.06376957 0.07165936\n",
      " 0.06359424 0.0626675  0.05808391 0.04809017 0.05703193 0.05783344\n",
      " 0.04566061 0.04889167 0.04553538 0.05705698 0.05838447 0.05983719\n",
      " 0.06675016 0.06654978 0.06993112 0.07288666 0.07105823 0.07120852\n",
      " 0.07772073 0.08583594 0.08939261 0.08771446 0.09297433 0.09790858\n",
      " 0.09056982 0.09380088 0.09665623 0.11015654 0.11937383 0.11243582\n",
      " 0.11974953 0.11291171 0.11028178 0.11063244 0.11774577 0.11611772\n",
      " 0.12145272 0.11739512 0.11448967 0.10429555 0.10537257 0.10659987\n",
      " 0.09986224 0.10289292 0.10161553 0.10907441 0.10753162 0.10639425\n",
      " 0.10559522 0.1050486  0.1046827  0.10444571 0.10430214 0.10422753\n",
      " 0.10420445 0.10421976 0.10426304 0.10432582 0.10440117 0.10448349\n",
      " 0.10456833 0.10465233 0.10473315 0.10480921]\n",
      "19 day output [[0.10487962]]\n",
      "20 day input [0.09565435 0.08025047 0.07899812 0.08035066 0.08180338 0.07020664\n",
      " 0.10026299 0.10735128 0.10379461 0.10820288 0.10507201 0.10990607\n",
      " 0.11133375 0.10311835 0.10855354 0.11078272 0.10336882 0.09362555\n",
      " 0.08598622 0.10316844 0.10386976 0.10261741 0.09966187 0.0903444\n",
      " 0.08541014 0.08969317 0.08846587 0.09430182 0.09675642 0.0910958\n",
      " 0.07428929 0.06930495 0.0639449  0.06376957 0.07165936 0.06359424\n",
      " 0.0626675  0.05808391 0.04809017 0.05703193 0.05783344 0.04566061\n",
      " 0.04889167 0.04553538 0.05705698 0.05838447 0.05983719 0.06675016\n",
      " 0.06654978 0.06993112 0.07288666 0.07105823 0.07120852 0.07772073\n",
      " 0.08583594 0.08939261 0.08771446 0.09297433 0.09790858 0.09056982\n",
      " 0.09380088 0.09665623 0.11015654 0.11937383 0.11243582 0.11974953\n",
      " 0.11291171 0.11028178 0.11063244 0.11774577 0.11611772 0.12145272\n",
      " 0.11739512 0.11448967 0.10429555 0.10537257 0.10659987 0.09986224\n",
      " 0.10289292 0.10161553 0.10907441 0.10753162 0.10639425 0.10559522\n",
      " 0.1050486  0.1046827  0.10444571 0.10430214 0.10422753 0.10420445\n",
      " 0.10421976 0.10426304 0.10432582 0.10440117 0.10448349 0.10456833\n",
      " 0.10465233 0.10473315 0.10480921 0.10487962]\n",
      "20 day output [[0.10494402]]\n",
      "21 day input [0.08025047 0.07899812 0.08035066 0.08180338 0.07020664 0.10026299\n",
      " 0.10735128 0.10379461 0.10820288 0.10507201 0.10990607 0.11133375\n",
      " 0.10311835 0.10855354 0.11078272 0.10336882 0.09362555 0.08598622\n",
      " 0.10316844 0.10386976 0.10261741 0.09966187 0.0903444  0.08541014\n",
      " 0.08969317 0.08846587 0.09430182 0.09675642 0.0910958  0.07428929\n",
      " 0.06930495 0.0639449  0.06376957 0.07165936 0.06359424 0.0626675\n",
      " 0.05808391 0.04809017 0.05703193 0.05783344 0.04566061 0.04889167\n",
      " 0.04553538 0.05705698 0.05838447 0.05983719 0.06675016 0.06654978\n",
      " 0.06993112 0.07288666 0.07105823 0.07120852 0.07772073 0.08583594\n",
      " 0.08939261 0.08771446 0.09297433 0.09790858 0.09056982 0.09380088\n",
      " 0.09665623 0.11015654 0.11937383 0.11243582 0.11974953 0.11291171\n",
      " 0.11028178 0.11063244 0.11774577 0.11611772 0.12145272 0.11739512\n",
      " 0.11448967 0.10429555 0.10537257 0.10659987 0.09986224 0.10289292\n",
      " 0.10161553 0.10907441 0.10753162 0.10639425 0.10559522 0.1050486\n",
      " 0.1046827  0.10444571 0.10430214 0.10422753 0.10420445 0.10421976\n",
      " 0.10426304 0.10432582 0.10440117 0.10448349 0.10456833 0.10465233\n",
      " 0.10473315 0.10480921 0.10487962 0.10494402]\n",
      "21 day output [[0.10500251]]\n",
      "22 day input [0.07899812 0.08035066 0.08180338 0.07020664 0.10026299 0.10735128\n",
      " 0.10379461 0.10820288 0.10507201 0.10990607 0.11133375 0.10311835\n",
      " 0.10855354 0.11078272 0.10336882 0.09362555 0.08598622 0.10316844\n",
      " 0.10386976 0.10261741 0.09966187 0.0903444  0.08541014 0.08969317\n",
      " 0.08846587 0.09430182 0.09675642 0.0910958  0.07428929 0.06930495\n",
      " 0.0639449  0.06376957 0.07165936 0.06359424 0.0626675  0.05808391\n",
      " 0.04809017 0.05703193 0.05783344 0.04566061 0.04889167 0.04553538\n",
      " 0.05705698 0.05838447 0.05983719 0.06675016 0.06654978 0.06993112\n",
      " 0.07288666 0.07105823 0.07120852 0.07772073 0.08583594 0.08939261\n",
      " 0.08771446 0.09297433 0.09790858 0.09056982 0.09380088 0.09665623\n",
      " 0.11015654 0.11937383 0.11243582 0.11974953 0.11291171 0.11028178\n",
      " 0.11063244 0.11774577 0.11611772 0.12145272 0.11739512 0.11448967\n",
      " 0.10429555 0.10537257 0.10659987 0.09986224 0.10289292 0.10161553\n",
      " 0.10907441 0.10753162 0.10639425 0.10559522 0.1050486  0.1046827\n",
      " 0.10444571 0.10430214 0.10422753 0.10420445 0.10421976 0.10426304\n",
      " 0.10432582 0.10440117 0.10448349 0.10456833 0.10465233 0.10473315\n",
      " 0.10480921 0.10487962 0.10494402 0.10500251]\n",
      "22 day output [[0.10505548]]\n"
     ]
    },
    {
     "name": "stdout",
     "output_type": "stream",
     "text": [
      "23 day input [0.08035066 0.08180338 0.07020664 0.10026299 0.10735128 0.10379461\n",
      " 0.10820288 0.10507201 0.10990607 0.11133375 0.10311835 0.10855354\n",
      " 0.11078272 0.10336882 0.09362555 0.08598622 0.10316844 0.10386976\n",
      " 0.10261741 0.09966187 0.0903444  0.08541014 0.08969317 0.08846587\n",
      " 0.09430182 0.09675642 0.0910958  0.07428929 0.06930495 0.0639449\n",
      " 0.06376957 0.07165936 0.06359424 0.0626675  0.05808391 0.04809017\n",
      " 0.05703193 0.05783344 0.04566061 0.04889167 0.04553538 0.05705698\n",
      " 0.05838447 0.05983719 0.06675016 0.06654978 0.06993112 0.07288666\n",
      " 0.07105823 0.07120852 0.07772073 0.08583594 0.08939261 0.08771446\n",
      " 0.09297433 0.09790858 0.09056982 0.09380088 0.09665623 0.11015654\n",
      " 0.11937383 0.11243582 0.11974953 0.11291171 0.11028178 0.11063244\n",
      " 0.11774577 0.11611772 0.12145272 0.11739512 0.11448967 0.10429555\n",
      " 0.10537257 0.10659987 0.09986224 0.10289292 0.10161553 0.10907441\n",
      " 0.10753162 0.10639425 0.10559522 0.1050486  0.1046827  0.10444571\n",
      " 0.10430214 0.10422753 0.10420445 0.10421976 0.10426304 0.10432582\n",
      " 0.10440117 0.10448349 0.10456833 0.10465233 0.10473315 0.10480921\n",
      " 0.10487962 0.10494402 0.10500251 0.10505548]\n",
      "23 day output [[0.10510345]]\n",
      "24 day input [0.08180338 0.07020664 0.10026299 0.10735128 0.10379461 0.10820288\n",
      " 0.10507201 0.10990607 0.11133375 0.10311835 0.10855354 0.11078272\n",
      " 0.10336882 0.09362555 0.08598622 0.10316844 0.10386976 0.10261741\n",
      " 0.09966187 0.0903444  0.08541014 0.08969317 0.08846587 0.09430182\n",
      " 0.09675642 0.0910958  0.07428929 0.06930495 0.0639449  0.06376957\n",
      " 0.07165936 0.06359424 0.0626675  0.05808391 0.04809017 0.05703193\n",
      " 0.05783344 0.04566061 0.04889167 0.04553538 0.05705698 0.05838447\n",
      " 0.05983719 0.06675016 0.06654978 0.06993112 0.07288666 0.07105823\n",
      " 0.07120852 0.07772073 0.08583594 0.08939261 0.08771446 0.09297433\n",
      " 0.09790858 0.09056982 0.09380088 0.09665623 0.11015654 0.11937383\n",
      " 0.11243582 0.11974953 0.11291171 0.11028178 0.11063244 0.11774577\n",
      " 0.11611772 0.12145272 0.11739512 0.11448967 0.10429555 0.10537257\n",
      " 0.10659987 0.09986224 0.10289292 0.10161553 0.10907441 0.10753162\n",
      " 0.10639425 0.10559522 0.1050486  0.1046827  0.10444571 0.10430214\n",
      " 0.10422753 0.10420445 0.10421976 0.10426304 0.10432582 0.10440117\n",
      " 0.10448349 0.10456833 0.10465233 0.10473315 0.10480921 0.10487962\n",
      " 0.10494402 0.10500251 0.10505548 0.10510345]\n",
      "24 day output [[0.10514718]]\n",
      "25 day input [0.07020664 0.10026299 0.10735128 0.10379461 0.10820288 0.10507201\n",
      " 0.10990607 0.11133375 0.10311835 0.10855354 0.11078272 0.10336882\n",
      " 0.09362555 0.08598622 0.10316844 0.10386976 0.10261741 0.09966187\n",
      " 0.0903444  0.08541014 0.08969317 0.08846587 0.09430182 0.09675642\n",
      " 0.0910958  0.07428929 0.06930495 0.0639449  0.06376957 0.07165936\n",
      " 0.06359424 0.0626675  0.05808391 0.04809017 0.05703193 0.05783344\n",
      " 0.04566061 0.04889167 0.04553538 0.05705698 0.05838447 0.05983719\n",
      " 0.06675016 0.06654978 0.06993112 0.07288666 0.07105823 0.07120852\n",
      " 0.07772073 0.08583594 0.08939261 0.08771446 0.09297433 0.09790858\n",
      " 0.09056982 0.09380088 0.09665623 0.11015654 0.11937383 0.11243582\n",
      " 0.11974953 0.11291171 0.11028178 0.11063244 0.11774577 0.11611772\n",
      " 0.12145272 0.11739512 0.11448967 0.10429555 0.10537257 0.10659987\n",
      " 0.09986224 0.10289292 0.10161553 0.10907441 0.10753162 0.10639425\n",
      " 0.10559522 0.1050486  0.1046827  0.10444571 0.10430214 0.10422753\n",
      " 0.10420445 0.10421976 0.10426304 0.10432582 0.10440117 0.10448349\n",
      " 0.10456833 0.10465233 0.10473315 0.10480921 0.10487962 0.10494402\n",
      " 0.10500251 0.10505548 0.10510345 0.10514718]\n",
      "25 day output [[0.10518737]]\n",
      "26 day input [0.10026299 0.10735128 0.10379461 0.10820288 0.10507201 0.10990607\n",
      " 0.11133375 0.10311835 0.10855354 0.11078272 0.10336882 0.09362555\n",
      " 0.08598622 0.10316844 0.10386976 0.10261741 0.09966187 0.0903444\n",
      " 0.08541014 0.08969317 0.08846587 0.09430182 0.09675642 0.0910958\n",
      " 0.07428929 0.06930495 0.0639449  0.06376957 0.07165936 0.06359424\n",
      " 0.0626675  0.05808391 0.04809017 0.05703193 0.05783344 0.04566061\n",
      " 0.04889167 0.04553538 0.05705698 0.05838447 0.05983719 0.06675016\n",
      " 0.06654978 0.06993112 0.07288666 0.07105823 0.07120852 0.07772073\n",
      " 0.08583594 0.08939261 0.08771446 0.09297433 0.09790858 0.09056982\n",
      " 0.09380088 0.09665623 0.11015654 0.11937383 0.11243582 0.11974953\n",
      " 0.11291171 0.11028178 0.11063244 0.11774577 0.11611772 0.12145272\n",
      " 0.11739512 0.11448967 0.10429555 0.10537257 0.10659987 0.09986224\n",
      " 0.10289292 0.10161553 0.10907441 0.10753162 0.10639425 0.10559522\n",
      " 0.1050486  0.1046827  0.10444571 0.10430214 0.10422753 0.10420445\n",
      " 0.10421976 0.10426304 0.10432582 0.10440117 0.10448349 0.10456833\n",
      " 0.10465233 0.10473315 0.10480921 0.10487962 0.10494402 0.10500251\n",
      " 0.10505548 0.10510345 0.10514718 0.10518737]\n",
      "26 day output [[0.10522473]]\n",
      "27 day input [0.10735128 0.10379461 0.10820288 0.10507201 0.10990607 0.11133375\n",
      " 0.10311835 0.10855354 0.11078272 0.10336882 0.09362555 0.08598622\n",
      " 0.10316844 0.10386976 0.10261741 0.09966187 0.0903444  0.08541014\n",
      " 0.08969317 0.08846587 0.09430182 0.09675642 0.0910958  0.07428929\n",
      " 0.06930495 0.0639449  0.06376957 0.07165936 0.06359424 0.0626675\n",
      " 0.05808391 0.04809017 0.05703193 0.05783344 0.04566061 0.04889167\n",
      " 0.04553538 0.05705698 0.05838447 0.05983719 0.06675016 0.06654978\n",
      " 0.06993112 0.07288666 0.07105823 0.07120852 0.07772073 0.08583594\n",
      " 0.08939261 0.08771446 0.09297433 0.09790858 0.09056982 0.09380088\n",
      " 0.09665623 0.11015654 0.11937383 0.11243582 0.11974953 0.11291171\n",
      " 0.11028178 0.11063244 0.11774577 0.11611772 0.12145272 0.11739512\n",
      " 0.11448967 0.10429555 0.10537257 0.10659987 0.09986224 0.10289292\n",
      " 0.10161553 0.10907441 0.10753162 0.10639425 0.10559522 0.1050486\n",
      " 0.1046827  0.10444571 0.10430214 0.10422753 0.10420445 0.10421976\n",
      " 0.10426304 0.10432582 0.10440117 0.10448349 0.10456833 0.10465233\n",
      " 0.10473315 0.10480921 0.10487962 0.10494402 0.10500251 0.10505548\n",
      " 0.10510345 0.10514718 0.10518737 0.10522473]\n",
      "27 day output [[0.10525995]]\n",
      "28 day input [0.10379461 0.10820288 0.10507201 0.10990607 0.11133375 0.10311835\n",
      " 0.10855354 0.11078272 0.10336882 0.09362555 0.08598622 0.10316844\n",
      " 0.10386976 0.10261741 0.09966187 0.0903444  0.08541014 0.08969317\n",
      " 0.08846587 0.09430182 0.09675642 0.0910958  0.07428929 0.06930495\n",
      " 0.0639449  0.06376957 0.07165936 0.06359424 0.0626675  0.05808391\n",
      " 0.04809017 0.05703193 0.05783344 0.04566061 0.04889167 0.04553538\n",
      " 0.05705698 0.05838447 0.05983719 0.06675016 0.06654978 0.06993112\n",
      " 0.07288666 0.07105823 0.07120852 0.07772073 0.08583594 0.08939261\n",
      " 0.08771446 0.09297433 0.09790858 0.09056982 0.09380088 0.09665623\n",
      " 0.11015654 0.11937383 0.11243582 0.11974953 0.11291171 0.11028178\n",
      " 0.11063244 0.11774577 0.11611772 0.12145272 0.11739512 0.11448967\n",
      " 0.10429555 0.10537257 0.10659987 0.09986224 0.10289292 0.10161553\n",
      " 0.10907441 0.10753162 0.10639425 0.10559522 0.1050486  0.1046827\n",
      " 0.10444571 0.10430214 0.10422753 0.10420445 0.10421976 0.10426304\n",
      " 0.10432582 0.10440117 0.10448349 0.10456833 0.10465233 0.10473315\n",
      " 0.10480921 0.10487962 0.10494402 0.10500251 0.10505548 0.10510345\n",
      " 0.10514718 0.10518737 0.10522473 0.10525995]\n",
      "28 day output [[0.1052936]]\n",
      "29 day input [0.10820288 0.10507201 0.10990607 0.11133375 0.10311835 0.10855354\n",
      " 0.11078272 0.10336882 0.09362555 0.08598622 0.10316844 0.10386976\n",
      " 0.10261741 0.09966187 0.0903444  0.08541014 0.08969317 0.08846587\n",
      " 0.09430182 0.09675642 0.0910958  0.07428929 0.06930495 0.0639449\n",
      " 0.06376957 0.07165936 0.06359424 0.0626675  0.05808391 0.04809017\n",
      " 0.05703193 0.05783344 0.04566061 0.04889167 0.04553538 0.05705698\n",
      " 0.05838447 0.05983719 0.06675016 0.06654978 0.06993112 0.07288666\n",
      " 0.07105823 0.07120852 0.07772073 0.08583594 0.08939261 0.08771446\n",
      " 0.09297433 0.09790858 0.09056982 0.09380088 0.09665623 0.11015654\n",
      " 0.11937383 0.11243582 0.11974953 0.11291171 0.11028178 0.11063244\n",
      " 0.11774577 0.11611772 0.12145272 0.11739512 0.11448967 0.10429555\n",
      " 0.10537257 0.10659987 0.09986224 0.10289292 0.10161553 0.10907441\n",
      " 0.10753162 0.10639425 0.10559522 0.1050486  0.1046827  0.10444571\n",
      " 0.10430214 0.10422753 0.10420445 0.10421976 0.10426304 0.10432582\n",
      " 0.10440117 0.10448349 0.10456833 0.10465233 0.10473315 0.10480921\n",
      " 0.10487962 0.10494402 0.10500251 0.10505548 0.10510345 0.10514718\n",
      " 0.10518737 0.10522473 0.10525995 0.1052936 ]\n",
      "29 day output [[0.10532621]]\n",
      "[[0.1090744137763977], [0.10753162205219269], [0.10639424622058868], [0.10559521615505219], [0.10504859685897827], [0.10468269884586334], [0.10444571077823639], [0.10430213809013367], [0.10422752797603607], [0.1042044460773468], [0.10421976447105408], [0.10426303744316101], [0.10432581603527069], [0.10440117120742798], [0.10448348522186279], [0.10456833243370056], [0.10465233027935028], [0.10473315417766571], [0.10480920970439911], [0.10487961769104004], [0.10494402050971985], [0.1050025075674057], [0.10505548119544983], [0.10510344803333282], [0.10514718294143677], [0.10518737137317657], [0.10522472858428955], [0.1052599549293518], [0.10529360175132751], [0.10532620549201965]]\n"
     ]
    }
   ],
   "source": [
    "lst_output=[]\n",
    "n_steps=100\n",
    "i=0\n",
    "while(i<30):\n",
    "    \n",
    "    if(len(temp_input)>100):\n",
    "        #print(temp_input)\n",
    "        x_input=np.array(temp_input[1:])\n",
    "        print(\"{} day input {}\".format(i,x_input))\n",
    "        x_input=x_input.reshape(1,-1)\n",
    "        x_input = x_input.reshape((1, n_steps, 1))\n",
    "        #print(x_input)\n",
    "        yhat = model.predict(x_input, verbose=0)\n",
    "        print(\"{} day output {}\".format(i,yhat))\n",
    "        temp_input.extend(yhat[0].tolist())\n",
    "        temp_input=temp_input[1:]\n",
    "        #print(temp_input)\n",
    "        lst_output.extend(yhat.tolist())\n",
    "        i=i+1\n",
    "    else:\n",
    "        x_input = x_input.reshape((1, n_steps,1))\n",
    "        yhat = model.predict(x_input, verbose=0)\n",
    "        print(yhat[0])\n",
    "        temp_input.extend(yhat[0].tolist())\n",
    "        print(len(temp_input))\n",
    "        lst_output.extend(yhat.tolist())\n",
    "        i=i+1\n",
    "    \n",
    "\n",
    "print(lst_output)"
   ]
  },
  {
   "cell_type": "code",
   "execution_count": 66,
   "id": "325670bd",
   "metadata": {},
   "outputs": [],
   "source": [
    "day_new=np.arange(1,101)\n",
    "day_pred=np.arange(101,131)"
   ]
  },
  {
   "cell_type": "code",
   "execution_count": 67,
   "id": "0d02cbb8",
   "metadata": {},
   "outputs": [],
   "source": [
    "import matplotlib.pyplot as plt"
   ]
  },
  {
   "cell_type": "code",
   "execution_count": 69,
   "id": "83be0d15",
   "metadata": {},
   "outputs": [
    {
     "data": {
      "text/plain": [
       "1257"
      ]
     },
     "execution_count": 69,
     "metadata": {},
     "output_type": "execute_result"
    }
   ],
   "source": [
    "len(df1)"
   ]
  },
  {
   "cell_type": "code",
   "execution_count": 70,
   "id": "22f931b6",
   "metadata": {},
   "outputs": [
    {
     "data": {
      "text/plain": [
       "[<matplotlib.lines.Line2D at 0x287f1df4eb0>]"
      ]
     },
     "execution_count": 70,
     "metadata": {},
     "output_type": "execute_result"
    },
    {
     "data": {
      "image/png": "[encoded data removed]",
      "text/plain": [
       "<Figure size 432x288 with 1 Axes>"
      ]
     },
     "metadata": {
      "needs_background": "light"
     },
     "output_type": "display_data"
    }
   ],
   "source": [
    "plt.plot(day_new,scaler.inverse_transform(df1[1157:]))\n",
    "plt.plot(day_pred,scaler.inverse_transform(lst_output))"
   ]
  },
  {
   "cell_type": "code",
   "execution_count": 71,
   "id": "d07206e3",
   "metadata": {},
   "outputs": [
    {
     "data": {
      "text/plain": [
       "[<matplotlib.lines.Line2D at 0x287f1d3c760>]"
      ]
     },
     "execution_count": 71,
     "metadata": {},
     "output_type": "execute_result"
    },
    {
     "data": {
      "image/png": "[encoded data removed]",
      "text/plain": [
       "<Figure size 432x288 with 1 Axes>"
      ]
     },
     "metadata": {
      "needs_background": "light"
     },
     "output_type": "display_data"
    }
   ],
   "source": [
    "df3=df1.tolist()\n",
    "df3.extend(lst_output)\n",
    "plt.plot(df3[1200:])"
   ]
  },
  {
   "cell_type": "code",
   "execution_count": 74,
   "id": "0dcd1d64",
   "metadata": {},
   "outputs": [],
   "source": [
    "df3=scaler.inverse_transform(df3).tolist()"
   ]
  },
  {
   "cell_type": "code",
   "execution_count": 75,
   "id": "ec8dcd02",
   "metadata": {},
   "outputs": [
    {
     "data": {
      "text/plain": [
       "[<matplotlib.lines.Line2D at 0x287f4020df0>]"
      ]
     },
     "execution_count": 75,
     "metadata": {},
     "output_type": "execute_result"
    },
    {
     "data": {
      "image/png": "[encoded data removed]",
      "text/plain": [
       "<Figure size 432x288 with 1 Axes>"
      ]
     },
     "metadata": {
      "needs_background": "light"
     },
     "output_type": "display_data"
    }
   ],
   "source": [
    "plt.plot(df3)"
   ]
  },
  {
   "cell_type": "code",
   "execution_count": null,
   "id": "b2ec96c3",
   "metadata": {},
   "outputs": [],
   "source": []
  },
  {
   "cell_type": "code",
   "execution_count": null,
   "id": "3d04cb33",
   "metadata": {},
   "outputs": [],
   "source": []
  }
 ],
 "metadata": {
  "kernelspec": {
   "display_name": "Python 3 (ipykernel)",
   "language": "python",
   "name": "python3"
  },
  "language_info": {
   "codemirror_mode": {
    "name": "ipython",
    "version": 3
   },
   "file_extension": ".py",
   "mimetype": "text/x-python",
   "name": "python",
   "nbconvert_exporter": "python",
   "pygments_lexer": "ipython3",
   "version": "3.10.9"
  }
 },
 "nbformat": 4,
 "nbformat_minor": 5
}
